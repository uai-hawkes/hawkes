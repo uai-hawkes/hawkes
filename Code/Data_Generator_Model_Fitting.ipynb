{
 "cells": [
  {
   "cell_type": "code",
   "execution_count": 1,
   "metadata": {
    "scrolled": true
   },
   "outputs": [],
   "source": [
    "%load_ext autoreload\n",
    "%autoreload 2\n",
    "\n",
    "import numpy as np; np.set_printoptions(linewidth=110);\n",
    "import pandas as pd; pd.set_option(\"display.max_columns\", None)\n",
    "\n",
    "import os\n",
    "import sys\n",
    "sys.path.append('D:/point_process_coupling_public/Code/')\n",
    "project_dir = 'D:/point_process_coupling_public/'\n",
    "\n",
    "import matplotlib.pyplot as plt\n",
    "import random\n",
    "from tqdm import tqdm\n",
    "from tqdm.notebook import trange\n",
    "import time\n",
    "import itertools\n",
    "\n",
    "import util\n",
    "import hierarchical_model_generator\n",
    "import jitter"
   ]
  },
  {
   "cell_type": "markdown",
   "metadata": {},
   "source": [
    "# Data generator"
   ]
  },
  {
   "cell_type": "markdown",
   "metadata": {},
   "source": [
    "### Data generator Hawkes process (constant baseline)."
   ]
  },
  {
   "cell_type": "code",
   "execution_count": 5,
   "metadata": {},
   "outputs": [
    {
     "name": "stdout",
     "output_type": "stream",
     "text": [
      "util.save_variable, save variable to:  D:/point_process_coupling_public/Output/jitter/bivariate_coupling_data/Hawkes_square_alpha2_beta40ms_generator_par.pkl\n",
      "100%|█████████████████████████████████████████████████████████████████| 1/1 [00:08<00:00,  8.40s/it]\n"
     ]
    }
   ],
   "source": [
    "generator = hierarchical_model_generator.HierarchicalModelGenerator()\n",
    "data_dir = project_dir + 'Output/jitter/bivariate_coupling_data/'\n",
    "trial_length = 2\n",
    "generator_par = {'trial_length': trial_length, 'trial_window':[0, trial_length], 'num_trials': 500, 'random_seed': None,\n",
    "        'type': 'square', 'mu': [20., 20.], 'alpha': [[0., 2], [0.0, 0.0]], 'beta': [[1.0, 0.04], [1.0, 1.0]], 'num_nodes': 2}\n",
    "file_path = data_dir + f'Hawkes_square_alpha2_beta40ms_generator_par.pkl'\n",
    "util.save_variable(file_path, generator_par)\n",
    "\n",
    "for itr in tqdm(range(1), ncols=100, file=sys.stdout):\n",
    "    generator_par['random_seed'] = itr\n",
    "    spike_times = generator.generate_hawkes_spike_times(generator_par, verbose=0)\n",
    "#     generator.spike_times_statistics(spike_times, generator_par['trial_length'], verbose=0)\n",
    "    file_path = data_dir + f'Hawkes_square_alpha2_beta40ms_itr{itr}.pkl'\n",
    "    util.save_variable(file_path, spike_times, verbose=False)"
   ]
  },
  {
   "cell_type": "markdown",
   "metadata": {},
   "source": [
    "### Linear Cox (baseline clusters from Poisson) + Gaussian window + non-repeated trials + coupling filter."
   ]
  },
  {
   "cell_type": "code",
   "execution_count": 6,
   "metadata": {},
   "outputs": [
    {
     "name": "stdout",
     "output_type": "stream",
     "text": [
      "util.save_variable, save variable to:  D:/point_process_coupling_public/Output/jitter/bivariate_coupling_data/poisson_background_gaussian_mixture_square_alpha2_beta30ms_sigma100ms_trials200_nonrepeated_generator_par.pkl\n",
      "100%|█████████████████████████████████████████████████████████████████| 5/5 [02:20<00:00, 28.13s/it]\n"
     ]
    }
   ],
   "source": [
    "generator = hierarchical_model_generator.HierarchicalModelGenerator()\n",
    "data_dir = project_dir + 'Output/jitter/bivariate_coupling_data/'\n",
    "trial_length = 5\n",
    "trial_window = [0, trial_length]\n",
    "num_trials = 200\n",
    "alpha = 2; alpha_str = '2'\n",
    "beta = 30; beta_str = '30'\n",
    "model_name = 'poisson_background_gaussian_mixture_square_' + \\\n",
    "        f'alpha{alpha_str}_beta{beta_str}ms_sigma100ms_trials{num_trials}_nonrepeated'\n",
    "\n",
    "generator_par = {'num_trials': num_trials, 'trial_length': trial_length, 'trial_window': trial_window,\n",
    "    'rho': 30, 'mu': 30, 'baseline': 10, 'window': 'gaussian', 'sigma': 0.1, 'random_seed': None,\n",
    "    'type': 'square', 'alpha': [[0., alpha], [0.0, 0.0]], 'beta': [[1.0, beta/1000], [1.0, 1.0]], 'num_nodes': 2}\n",
    "file_path = data_dir + model_name + '_generator_par.pkl'\n",
    "util.save_variable(file_path, generator_par)\n",
    "\n",
    "for itr in tqdm(range(0, 5), ncols=100, file=sys.stdout):\n",
    "    generator_par['random_seed'] = itr\n",
    "    spike_times = generator.generate_amarasingham_coupling_filter_spike_times_nonrepeated(generator_par, verbose=0)\n",
    "    file_path = data_dir + model_name + f'_itr{itr}.pkl'\n",
    "    util.save_variable(file_path, spike_times, verbose=False)"
   ]
  },
  {
   "cell_type": "markdown",
   "metadata": {},
   "source": [
    "### Fast changing Linear Cox + Gaussian window + non-repeated trials + coupling filter."
   ]
  },
  {
   "cell_type": "code",
   "execution_count": 7,
   "metadata": {},
   "outputs": [
    {
     "name": "stdout",
     "output_type": "stream",
     "text": [
      "util.save_variable, save variable to:  D:/point_process_coupling_public/Output/jitter/bivariate_coupling_data/poisson_background_gaussian_mixture_square_alpha2_beta30ms_sigma8ms_trials200_nonrepeated_generator_par.pkl\n",
      "100%|█████████████████████████████████████████████████████████████████| 2/2 [02:03<00:00, 61.95s/it]\n"
     ]
    }
   ],
   "source": [
    "generator = hierarchical_model_generator.HierarchicalModelGenerator()\n",
    "data_dir = project_dir + 'Output/jitter/bivariate_coupling_data/'\n",
    "trial_length = 5\n",
    "trial_window = [0, trial_length]\n",
    "num_trials = 200\n",
    "alpha = 2; alpha_str = '2'\n",
    "beta = 30; beta_str = '30'  # ms\n",
    "model_name = 'poisson_background_gaussian_mixture_square_' + \\\n",
    "        f'alpha{alpha_str}_beta{beta_str}ms_sigma8ms_trials{num_trials}_nonrepeated'\n",
    "\n",
    "generator_par = {'num_trials': num_trials, 'trial_length': trial_length, 'trial_window': trial_window,\n",
    "    'rho': 30, 'mu': 30, 'baseline': 10, 'window': 'gaussian', 'sigma': 0.008, 'random_seed': None,\n",
    "    'type': 'square', 'alpha': [[0., alpha], [0.0, 0.0]], 'beta': [[1.0, beta/1000], [1.0, 1.0]], 'num_nodes': 2}\n",
    "file_path = data_dir + model_name + '_generator_par.pkl'\n",
    "util.save_variable(file_path, generator_par)\n",
    "\n",
    "for itr in tqdm(range(0, 2), ncols=100, file=sys.stdout):\n",
    "    generator_par['random_seed'] = itr\n",
    "    spike_times = generator.generate_amarasingham_coupling_filter_spike_times_nonrepeated(generator_par, verbose=0)\n",
    "    file_path = data_dir + model_name + f'_itr{itr}.pkl'\n",
    "    util.save_variable(file_path, spike_times, verbose=False)"
   ]
  },
  {
   "cell_type": "markdown",
   "metadata": {},
   "source": [
    "###  Varying Gaussian window + Lienear Cox + non-repeated trials + coupling filter."
   ]
  },
  {
   "cell_type": "code",
   "execution_count": 14,
   "metadata": {
    "scrolled": true
   },
   "outputs": [
    {
     "name": "stdout",
     "output_type": "stream",
     "text": [
      "util.save_variable, save variable to:  D:/Brain_Network/Output/jitter/bivariate_coupling_data/poisson_background_gaussian_mixture_square_alpha2_beta30ms_varying_sigma_80_140ms_trials200_nonrepeated_generator_par.pkl\n",
      "100%|███████████████████████████████████████████████████████████| 300/300 [2:14:05<00:00, 26.82s/it]\n"
     ]
    }
   ],
   "source": [
    "generator = hierarchical_model_generator.HierarchicalModelGenerator()\n",
    "data_dir = project_dir + 'Output/jitter/bivariate_coupling_data/'\n",
    "trial_length = 5\n",
    "trial_window = [0, trial_length]\n",
    "num_trials = 200\n",
    "alpha = 2; alpha_str = '2'\n",
    "beta = 30; beta_str = '30'  # ms\n",
    "model_name = 'poisson_background_gaussian_mixture_square_' + \\\n",
    "        f'alpha{alpha_str}_beta{beta_str}ms_varying_sigma_80_140ms_trials{num_trials}_nonrepeated'\n",
    "\n",
    "generator_par = {'num_trials': num_trials, 'trial_length': trial_length, 'trial_window': trial_window,\n",
    "    'rho': 30, 'mu': 30, 'baseline': 10, 'window': 'gaussian_varying', 'sigma': [0.08, 0.14], 'random_seed': None,\n",
    "    'type': 'square', 'alpha': [[0., alpha], [0.0, 0.0]], 'beta': [[1.0, beta/1000], [1.0, 1.0]], 'num_nodes': 2}\n",
    "file_path = data_dir + model_name + '_generator_par.pkl'\n",
    "util.save_variable(file_path, generator_par)\n",
    "\n",
    "for itr in tqdm(range(0, 300), ncols=100, file=sys.stdout):\n",
    "    generator_par['random_seed'] = itr\n",
    "    spike_times = generator.generate_amarasingham_coupling_filter_spike_times_nonrepeated(generator_par, verbose=0)\n",
    "    file_path = data_dir + model_name + f'_itr{itr}.pkl'\n",
    "    util.save_variable(file_path, spike_times, verbose=False)"
   ]
  },
  {
   "cell_type": "markdown",
   "metadata": {},
   "source": [
    "### Sinusoid + linear Cox"
   ]
  },
  {
   "cell_type": "code",
   "execution_count": 17,
   "metadata": {
    "scrolled": true
   },
   "outputs": [
    {
     "name": "stdout",
     "output_type": "stream",
     "text": [
      "poisson_background_gaussian_mixture_square_alpha2_beta30ms_sigma_100ms_delay0div64_trials200\n",
      "util.save_variable, save variable to:  D:/Brain_Network/Output/jitter/bivariate_coupling_data/poisson_background_gaussian_mixture_square_alpha2_beta30ms_sigma_100ms_delay0div64_trials200_generator_par.pkl\n",
      "100%|█████████████████████████████████████████████████████████████| 100/100 [42:32<00:00, 25.52s/it]\n",
      "poisson_background_gaussian_mixture_square_alpha2_beta30ms_sigma_100ms_delay1div64_trials200\n",
      "util.save_variable, save variable to:  D:/Brain_Network/Output/jitter/bivariate_coupling_data/poisson_background_gaussian_mixture_square_alpha2_beta30ms_sigma_100ms_delay1div64_trials200_generator_par.pkl\n",
      "100%|█████████████████████████████████████████████████████████████| 100/100 [41:02<00:00, 24.63s/it]\n",
      "poisson_background_gaussian_mixture_square_alpha2_beta30ms_sigma_100ms_delay2div64_trials200\n",
      "util.save_variable, save variable to:  D:/Brain_Network/Output/jitter/bivariate_coupling_data/poisson_background_gaussian_mixture_square_alpha2_beta30ms_sigma_100ms_delay2div64_trials200_generator_par.pkl\n",
      "100%|█████████████████████████████████████████████████████████████| 100/100 [41:12<00:00, 24.72s/it]\n",
      "poisson_background_gaussian_mixture_square_alpha2_beta30ms_sigma_100ms_delay3div64_trials200\n",
      "util.save_variable, save variable to:  D:/Brain_Network/Output/jitter/bivariate_coupling_data/poisson_background_gaussian_mixture_square_alpha2_beta30ms_sigma_100ms_delay3div64_trials200_generator_par.pkl\n",
      "100%|█████████████████████████████████████████████████████████████| 100/100 [41:23<00:00, 24.84s/it]\n",
      "poisson_background_gaussian_mixture_square_alpha2_beta30ms_sigma_100ms_delay4div64_trials200\n",
      "util.save_variable, save variable to:  D:/Brain_Network/Output/jitter/bivariate_coupling_data/poisson_background_gaussian_mixture_square_alpha2_beta30ms_sigma_100ms_delay4div64_trials200_generator_par.pkl\n",
      "100%|█████████████████████████████████████████████████████████████| 100/100 [41:46<00:00, 25.06s/it]\n",
      "poisson_background_gaussian_mixture_square_alpha2_beta30ms_sigma_100ms_delay5div64_trials200\n",
      "util.save_variable, save variable to:  D:/Brain_Network/Output/jitter/bivariate_coupling_data/poisson_background_gaussian_mixture_square_alpha2_beta30ms_sigma_100ms_delay5div64_trials200_generator_par.pkl\n",
      "100%|█████████████████████████████████████████████████████████████| 100/100 [41:48<00:00, 25.08s/it]\n",
      "poisson_background_gaussian_mixture_square_alpha2_beta30ms_sigma_100ms_delay6div64_trials200\n",
      "util.save_variable, save variable to:  D:/Brain_Network/Output/jitter/bivariate_coupling_data/poisson_background_gaussian_mixture_square_alpha2_beta30ms_sigma_100ms_delay6div64_trials200_generator_par.pkl\n",
      "100%|█████████████████████████████████████████████████████████████| 100/100 [40:11<00:00, 24.12s/it]\n",
      "poisson_background_gaussian_mixture_square_alpha2_beta30ms_sigma_100ms_delay7div64_trials200\n",
      "util.save_variable, save variable to:  D:/Brain_Network/Output/jitter/bivariate_coupling_data/poisson_background_gaussian_mixture_square_alpha2_beta30ms_sigma_100ms_delay7div64_trials200_generator_par.pkl\n",
      "100%|█████████████████████████████████████████████████████████████| 100/100 [38:23<00:00, 23.04s/it]\n"
     ]
    }
   ],
   "source": [
    "generator = hierarchical_model_generator.HierarchicalModelGenerator()\n",
    "data_dir = project_dir + 'Output/jitter/bivariate_coupling_data/'\n",
    "trial_length = 5\n",
    "trial_window = [0, trial_length]\n",
    "num_trials = 200\n",
    "alpha = 2; alpha_str = '2'\n",
    "beta = 30; beta_str = '30'  # ms\n",
    "amplitude = 5\n",
    "\n",
    "for lag in np.arange(0,8):\n",
    "    model_name = 'poisson_background_gaussian_mixture_square_' + \\\n",
    "            f'alpha{alpha_str}_beta{beta_str}ms_sigma_100ms_sinusoid_amp{amplitude}_delay{lag}div64_trials{num_trials}_nonrepeated'\n",
    "    print(model_name)\n",
    "\n",
    "    generator_par = {'num_trials': num_trials, 'trial_length': trial_length, 'trial_window': trial_window,\n",
    "        'baseline': 30, 'amplitude': amplitude, 'frequency': 1, 'window': 'sinusoid', 'delays': [0.0, lag/64], 'random_seed': None,\n",
    "        'type': 'square', 'alpha': [[0., alpha], [0.0, 0.0]], 'beta': [[1.0, beta/1000], [1.0, 1.0]], 'num_nodes': 2}\n",
    "    file_path = data_dir + model_name + '_generator_par.pkl'\n",
    "    util.save_variable(file_path, generator_par)\n",
    "\n",
    "    for itr in tqdm(range(0, 100), ncols=100, file=sys.stdout):\n",
    "        generator_par['random_seed'] = itr\n",
    "        init_lag = np.random.rand()\n",
    "        generator_par['delays'][0] = generator_par['delays'][0] + init_lag\n",
    "        generator_par['delays'][1] = generator_par['delays'][1] + init_lag\n",
    "        spike_times = generator.generate_linear_cox_coupling_filter_spike_times_delayed_sinusoid(generator_par, verbose=0)\n",
    "        file_path = data_dir + model_name + f'_itr{itr}.pkl'\n",
    "        util.save_variable(file_path, spike_times, verbose=False)"
   ]
  },
  {
   "cell_type": "code",
   "execution_count": null,
   "metadata": {},
   "outputs": [],
   "source": []
  },
  {
   "cell_type": "markdown",
   "metadata": {},
   "source": [
    "# Model fitting"
   ]
  },
  {
   "cell_type": "code",
   "execution_count": 9,
   "metadata": {},
   "outputs": [
    {
     "name": "stdout",
     "output_type": "stream",
     "text": [
      "100%|█████████████████████████████████████████████████████████████████| 5/5 [00:23<00:00,  4.79s/it]\n",
      "util.save_variable, save variable to:  D:/point_process_coupling_public/Output/jitter/bivariate_coupling_model/poisson_background_gaussian_mixture_point_process_likelihood_regression/poisson_background_gaussian_mixture_square_alpha2_beta30ms_sigma100ms_trials200_nonrepeated_kernel5ms_model_par_list.pkl\n",
      "100%|█████████████████████████████████████████████████████████████████| 5/5 [00:27<00:00,  5.44s/it]\n",
      "util.save_variable, save variable to:  D:/point_process_coupling_public/Output/jitter/bivariate_coupling_model/poisson_background_gaussian_mixture_point_process_likelihood_regression/poisson_background_gaussian_mixture_square_alpha2_beta30ms_sigma100ms_trials200_nonrepeated_kernel20ms_model_par_list.pkl\n",
      "100%|█████████████████████████████████████████████████████████████████| 5/5 [00:26<00:00,  5.36s/it]\n",
      "util.save_variable, save variable to:  D:/point_process_coupling_public/Output/jitter/bivariate_coupling_model/poisson_background_gaussian_mixture_point_process_likelihood_regression/poisson_background_gaussian_mixture_square_alpha2_beta30ms_sigma100ms_trials200_nonrepeated_kernel30ms_model_par_list.pkl\n",
      "100%|█████████████████████████████████████████████████████████████████| 5/5 [00:26<00:00,  5.37s/it]\n",
      "util.save_variable, save variable to:  D:/point_process_coupling_public/Output/jitter/bivariate_coupling_model/poisson_background_gaussian_mixture_point_process_likelihood_regression/poisson_background_gaussian_mixture_square_alpha2_beta30ms_sigma100ms_trials200_nonrepeated_kernel80ms_model_par_list.pkl\n",
      "100%|█████████████████████████████████████████████████████████████████| 5/5 [00:27<00:00,  5.41s/it]\n",
      "util.save_variable, save variable to:  D:/point_process_coupling_public/Output/jitter/bivariate_coupling_model/poisson_background_gaussian_mixture_point_process_likelihood_regression/poisson_background_gaussian_mixture_square_alpha2_beta30ms_sigma100ms_trials200_nonrepeated_kernel100ms_model_par_list.pkl\n",
      "100%|█████████████████████████████████████████████████████████████████| 5/5 [00:27<00:00,  5.41s/it]\n",
      "util.save_variable, save variable to:  D:/point_process_coupling_public/Output/jitter/bivariate_coupling_model/poisson_background_gaussian_mixture_point_process_likelihood_regression/poisson_background_gaussian_mixture_square_alpha2_beta30ms_sigma100ms_trials200_nonrepeated_kernel130ms_model_par_list.pkl\n",
      "100%|█████████████████████████████████████████████████████████████████| 5/5 [00:28<00:00,  5.67s/it]\n",
      "util.save_variable, save variable to:  D:/point_process_coupling_public/Output/jitter/bivariate_coupling_model/poisson_background_gaussian_mixture_point_process_likelihood_regression/poisson_background_gaussian_mixture_square_alpha2_beta30ms_sigma100ms_trials200_nonrepeated_kernel160ms_model_par_list.pkl\n",
      "100%|█████████████████████████████████████████████████████████████████| 5/5 [00:27<00:00,  5.54s/it]\n",
      "util.save_variable, save variable to:  D:/point_process_coupling_public/Output/jitter/bivariate_coupling_model/poisson_background_gaussian_mixture_point_process_likelihood_regression/poisson_background_gaussian_mixture_square_alpha2_beta30ms_sigma100ms_trials200_nonrepeated_kernel200ms_model_par_list.pkl\n",
      "100%|█████████████████████████████████████████████████████████████████| 5/5 [00:28<00:00,  5.73s/it]\n",
      "util.save_variable, save variable to:  D:/point_process_coupling_public/Output/jitter/bivariate_coupling_model/poisson_background_gaussian_mixture_point_process_likelihood_regression/poisson_background_gaussian_mixture_square_alpha2_beta30ms_sigma100ms_trials200_nonrepeated_kernel250ms_model_par_list.pkl\n",
      "100%|█████████████████████████████████████████████████████████████████| 5/5 [00:28<00:00,  5.72s/it]\n",
      "util.save_variable, save variable to:  D:/point_process_coupling_public/Output/jitter/bivariate_coupling_model/poisson_background_gaussian_mixture_point_process_likelihood_regression/poisson_background_gaussian_mixture_square_alpha2_beta30ms_sigma100ms_trials200_nonrepeated_kernel500ms_model_par_list.pkl\n",
      "100%|█████████████████████████████████████████████████████████████████| 5/5 [00:29<00:00,  5.81s/it]\n",
      "util.save_variable, save variable to:  D:/point_process_coupling_public/Output/jitter/bivariate_coupling_model/poisson_background_gaussian_mixture_point_process_likelihood_regression/poisson_background_gaussian_mixture_square_alpha2_beta30ms_sigma100ms_trials200_nonrepeated_kernel800ms_model_par_list.pkl\n",
      "100%|█████████████████████████████████████████████████████████████████| 5/5 [00:01<00:00,  2.95it/s]\n",
      "util.save_variable, save variable to:  D:/point_process_coupling_public/Output/jitter/bivariate_coupling_model/poisson_background_gaussian_mixture_point_process_likelihood_regression/poisson_background_gaussian_mixture_square_alpha2_beta30ms_sigma100ms_trials200_nonrepeated_kernelnonems_model_par_list.pkl\n"
     ]
    }
   ],
   "source": [
    "jittertool = jitter.JitterTool()\n",
    "data_dir = project_dir + 'Output/jitter/bivariate_coupling_data/'\n",
    "model_dir = project_dir + 'Output/jitter/bivariate_coupling_model/poisson_background_gaussian_mixture_point_process_likelihood_regression/'\n",
    "\n",
    "model_name = 'poisson_background_gaussian_mixture_square_alpha2_beta30ms_sigma100ms_trials200_nonrepeated'\n",
    "file_path = data_dir + f'{model_name}_generator_par.pkl'\n",
    "generator_par = util.load_variable(file_path, verbose=False)\n",
    "trial_length = generator_par['trial_length']\n",
    "\n",
    "num_itrs = 5\n",
    "kernel_widths = [5,20,30,80,100,130,160,200,250,500,800,'none']\n",
    "\n",
    "for kernel_width in kernel_widths:\n",
    "    model_par_list = []\n",
    "    if kernel_width == 'none':\n",
    "        model_par = {'filter_type': 'square', 'filter_length': generator_par['beta'][0][1],\n",
    "                     'append_nuisance': ['const'],\n",
    "                     'const_offset': 0, 'learning_rate': 0.5, 'max_num_itrs': 500, 'epsilon'\n",
    "                     : 1e-5}\n",
    "    else:\n",
    "        model_par = {'filter_type': 'square', 'filter_length': generator_par['beta'][0][1],\n",
    "                     'append_nuisance': ['const', 'gaussian_kernel'], 'kernel_width': kernel_width/1000,\n",
    "                     'const_offset': 0, 'learning_rate': 0.5, 'max_num_itrs': 500, 'epsilon': 1e-5}\n",
    "\n",
    "    trange = tqdm(range(num_itrs), ncols=100, file=sys.stdout)\n",
    "    for itr in trange:\n",
    "        file_path = data_dir + f'{model_name}_itr{itr}.pkl'\n",
    "        spike_times = util.load_variable(file_path, verbose=False)\n",
    "        spike_times_x, spike_times_y = spike_times[1], spike_times[0]\n",
    "        model_par_hat = jittertool.bivariate_continuous_time_coupling_filter_regression(\n",
    "                spike_times_x, spike_times_y, [0,trial_length], model_par)\n",
    "        model_par_list.append(model_par_hat)\n",
    "\n",
    "    file_path = model_dir + f'{model_name}_kernel{kernel_width}ms_model_par_list.pkl'\n",
    "    util.save_variable(file_path, model_par_list)\n"
   ]
  },
  {
   "cell_type": "code",
   "execution_count": null,
   "metadata": {},
   "outputs": [],
   "source": []
  }
 ],
 "metadata": {
  "kernelspec": {
   "display_name": "Python 3 (ipykernel)",
   "language": "python",
   "name": "python3"
  },
  "language_info": {
   "codemirror_mode": {
    "name": "ipython",
    "version": 3
   },
   "file_extension": ".py",
   "mimetype": "text/x-python",
   "name": "python",
   "nbconvert_exporter": "python",
   "pygments_lexer": "ipython3",
   "version": "3.7.10"
  },
  "nbdime-conflicts": {
   "local_diff": [
    {
     "key": "kernelspec",
     "op": "add",
     "value": {
      "display_name": "allensdk",
      "language": "python",
      "name": "allensdk"
     }
    },
    {
     "key": "language_info",
     "op": "add",
     "value": {
      "codemirror_mode": {
       "name": "ipython",
       "version": 3
      },
      "file_extension": ".py",
      "mimetype": "text/x-python",
      "name": "python",
      "nbconvert_exporter": "python",
      "pygments_lexer": "ipython3",
      "version": "3.6.8"
     }
    }
   ],
   "remote_diff": [
    {
     "key": "kernelspec",
     "op": "add",
     "value": {
      "display_name": "py37",
      "language": "python",
      "name": "py37"
     }
    },
    {
     "key": "language_info",
     "op": "add",
     "value": {
      "codemirror_mode": {
       "name": "ipython",
       "version": 3
      },
      "file_extension": ".py",
      "mimetype": "text/x-python",
      "name": "python",
      "nbconvert_exporter": "python",
      "pygments_lexer": "ipython3",
      "version": "3.7.3"
     }
    }
   ]
  }
 },
 "nbformat": 4,
 "nbformat_minor": 2
}
