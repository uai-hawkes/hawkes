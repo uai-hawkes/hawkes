{
 "cells": [
  {
   "cell_type": "code",
   "execution_count": 1,
   "metadata": {},
   "outputs": [],
   "source": [
    "%load_ext autoreload\n",
    "%autoreload 2\n",
    "\n",
    "import os\n",
    "import sys\n",
    "from sys import platform\n",
    "\n",
    "import numpy as np\n",
    "import pandas as pd\n",
    "import matplotlib.pyplot as plt\n",
    "\n",
    "sys.path.append('/your/path/Code/')\n",
    "manifest_path = '/your/path/Allen_Institute_Dataset/manifest.json'\n",
    "\n",
    "from allensdk.brain_observatory.ecephys.ecephys_project_cache import EcephysProjectCache\n"
   ]
  },
  {
   "cell_type": "markdown",
   "metadata": {},
   "source": [
    "The `EcephysProjectCache` is the main entry point to the Visual Coding Neuropixels dataset. It allows you to download data for individual recording sessions and view cross-session summary information."
   ]
  },
  {
   "cell_type": "code",
   "execution_count": 3,
   "metadata": {
    "scrolled": true
   },
   "outputs": [
    {
     "name": "stdout",
     "output_type": "stream",
     "text": [
      "Download time: 720000\n",
      "['brain_observatory_1.1', 'functional_connectivity']\n"
     ]
    }
   ],
   "source": [
    "cache = EcephysProjectCache.from_warehouse(manifest=manifest_path)\n",
    "print(cache.get_all_session_types())"
   ]
  },
  {
   "cell_type": "markdown",
   "metadata": {},
   "source": [
    "This dataset contains sessions in which two sets of stimuli were presented. The `\"brain_observatory_1.1\"` sessions are (almost exactly) the same as Visual Coding 2P sessions."
   ]
  },
  {
   "cell_type": "code",
   "execution_count": 9,
   "metadata": {},
   "outputs": [
    {
     "data": {
      "text/html": [
       "<div>\n",
       "<style scoped>\n",
       "    .dataframe tbody tr th:only-of-type {\n",
       "        vertical-align: middle;\n",
       "    }\n",
       "\n",
       "    .dataframe tbody tr th {\n",
       "        vertical-align: top;\n",
       "    }\n",
       "\n",
       "    .dataframe thead th {\n",
       "        text-align: right;\n",
       "    }\n",
       "</style>\n",
       "<table border=\"1\" class=\"dataframe\">\n",
       "  <thead>\n",
       "    <tr style=\"text-align: right;\">\n",
       "      <th></th>\n",
       "      <th>published_at</th>\n",
       "      <th>specimen_id</th>\n",
       "      <th>session_type</th>\n",
       "      <th>age_in_days</th>\n",
       "      <th>sex</th>\n",
       "      <th>full_genotype</th>\n",
       "      <th>unit_count</th>\n",
       "      <th>channel_count</th>\n",
       "      <th>probe_count</th>\n",
       "      <th>ecephys_structure_acronyms</th>\n",
       "    </tr>\n",
       "    <tr>\n",
       "      <th>id</th>\n",
       "      <th></th>\n",
       "      <th></th>\n",
       "      <th></th>\n",
       "      <th></th>\n",
       "      <th></th>\n",
       "      <th></th>\n",
       "      <th></th>\n",
       "      <th></th>\n",
       "      <th></th>\n",
       "      <th></th>\n",
       "    </tr>\n",
       "  </thead>\n",
       "  <tbody>\n",
       "    <tr>\n",
       "      <th>715093703</th>\n",
       "      <td>2019-10-03T00:00:00Z</td>\n",
       "      <td>699733581</td>\n",
       "      <td>brain_observatory_1.1</td>\n",
       "      <td>118.0</td>\n",
       "      <td>M</td>\n",
       "      <td>Sst-IRES-Cre/wt;Ai32(RCL-ChR2(H134R)_EYFP)/wt</td>\n",
       "      <td>884</td>\n",
       "      <td>2219</td>\n",
       "      <td>6</td>\n",
       "      <td>[CA1, VISrl, nan, PO, LP, LGd, CA3, DG, VISl, ...</td>\n",
       "    </tr>\n",
       "    <tr>\n",
       "      <th>719161530</th>\n",
       "      <td>2019-10-03T00:00:00Z</td>\n",
       "      <td>703279284</td>\n",
       "      <td>brain_observatory_1.1</td>\n",
       "      <td>122.0</td>\n",
       "      <td>M</td>\n",
       "      <td>Sst-IRES-Cre/wt;Ai32(RCL-ChR2(H134R)_EYFP)/wt</td>\n",
       "      <td>755</td>\n",
       "      <td>2214</td>\n",
       "      <td>6</td>\n",
       "      <td>[TH, Eth, APN, POL, LP, DG, CA1, VISpm, nan, N...</td>\n",
       "    </tr>\n",
       "    <tr>\n",
       "      <th>721123822</th>\n",
       "      <td>2019-10-03T00:00:00Z</td>\n",
       "      <td>707296982</td>\n",
       "      <td>brain_observatory_1.1</td>\n",
       "      <td>125.0</td>\n",
       "      <td>M</td>\n",
       "      <td>Pvalb-IRES-Cre/wt;Ai32(RCL-ChR2(H134R)_EYFP)/wt</td>\n",
       "      <td>444</td>\n",
       "      <td>2229</td>\n",
       "      <td>6</td>\n",
       "      <td>[MB, SCig, PPT, NOT, DG, CA1, VISam, nan, LP, ...</td>\n",
       "    </tr>\n",
       "    <tr>\n",
       "      <th>732592105</th>\n",
       "      <td>2019-10-03T00:00:00Z</td>\n",
       "      <td>717038288</td>\n",
       "      <td>brain_observatory_1.1</td>\n",
       "      <td>100.0</td>\n",
       "      <td>M</td>\n",
       "      <td>wt/wt</td>\n",
       "      <td>824</td>\n",
       "      <td>1847</td>\n",
       "      <td>5</td>\n",
       "      <td>[grey, VISpm, nan, VISp, VISl, VISal, VISrl]</td>\n",
       "    </tr>\n",
       "    <tr>\n",
       "      <th>737581020</th>\n",
       "      <td>2019-10-03T00:00:00Z</td>\n",
       "      <td>718643567</td>\n",
       "      <td>brain_observatory_1.1</td>\n",
       "      <td>108.0</td>\n",
       "      <td>M</td>\n",
       "      <td>wt/wt</td>\n",
       "      <td>568</td>\n",
       "      <td>2218</td>\n",
       "      <td>6</td>\n",
       "      <td>[grey, VISmma, nan, VISpm, VISp, VISl, VISrl]</td>\n",
       "    </tr>\n",
       "    <tr>\n",
       "      <th>739448407</th>\n",
       "      <td>2019-10-03T00:00:00Z</td>\n",
       "      <td>716813543</td>\n",
       "      <td>brain_observatory_1.1</td>\n",
       "      <td>112.0</td>\n",
       "      <td>M</td>\n",
       "      <td>wt/wt</td>\n",
       "      <td>625</td>\n",
       "      <td>2221</td>\n",
       "      <td>6</td>\n",
       "      <td>[grey, VISam, nan, VIS, VISp, VISl, VISrl]</td>\n",
       "    </tr>\n",
       "    <tr>\n",
       "      <th>742951821</th>\n",
       "      <td>2019-10-03T00:00:00Z</td>\n",
       "      <td>723627604</td>\n",
       "      <td>brain_observatory_1.1</td>\n",
       "      <td>120.0</td>\n",
       "      <td>M</td>\n",
       "      <td>wt/wt</td>\n",
       "      <td>893</td>\n",
       "      <td>2219</td>\n",
       "      <td>6</td>\n",
       "      <td>[VISal, nan, grey, VISl, VISrl, VISp, VISpm, VIS]</td>\n",
       "    </tr>\n",
       "    <tr>\n",
       "      <th>743475441</th>\n",
       "      <td>2019-10-03T00:00:00Z</td>\n",
       "      <td>722882755</td>\n",
       "      <td>brain_observatory_1.1</td>\n",
       "      <td>121.0</td>\n",
       "      <td>M</td>\n",
       "      <td>wt/wt</td>\n",
       "      <td>553</td>\n",
       "      <td>2225</td>\n",
       "      <td>6</td>\n",
       "      <td>[LP, LGd, HPF, DG, CA3, CA1, VISrl, nan, PP, P...</td>\n",
       "    </tr>\n",
       "    <tr>\n",
       "      <th>744228101</th>\n",
       "      <td>2019-10-03T00:00:00Z</td>\n",
       "      <td>719817805</td>\n",
       "      <td>brain_observatory_1.1</td>\n",
       "      <td>122.0</td>\n",
       "      <td>M</td>\n",
       "      <td>wt/wt</td>\n",
       "      <td>659</td>\n",
       "      <td>2226</td>\n",
       "      <td>6</td>\n",
       "      <td>[Eth, TH, LP, POL, APN, DG, CA1, VIS, nan, CA3...</td>\n",
       "    </tr>\n",
       "    <tr>\n",
       "      <th>746083955</th>\n",
       "      <td>2019-10-03T00:00:00Z</td>\n",
       "      <td>726170935</td>\n",
       "      <td>brain_observatory_1.1</td>\n",
       "      <td>98.0</td>\n",
       "      <td>F</td>\n",
       "      <td>Pvalb-IRES-Cre/wt;Ai32(RCL-ChR2(H134R)_EYFP)/wt</td>\n",
       "      <td>582</td>\n",
       "      <td>2216</td>\n",
       "      <td>6</td>\n",
       "      <td>[VPM, TH, LGd, CA3, CA2, CA1, VISal, nan, grey...</td>\n",
       "    </tr>\n",
       "    <tr>\n",
       "      <th>750332458</th>\n",
       "      <td>2019-10-03T00:00:00Z</td>\n",
       "      <td>726141251</td>\n",
       "      <td>brain_observatory_1.1</td>\n",
       "      <td>91.0</td>\n",
       "      <td>M</td>\n",
       "      <td>wt/wt</td>\n",
       "      <td>902</td>\n",
       "      <td>2216</td>\n",
       "      <td>6</td>\n",
       "      <td>[grey, VISrl, nan, VISal, IntG, IGL, LGd, CA3,...</td>\n",
       "    </tr>\n",
       "    <tr>\n",
       "      <th>750749662</th>\n",
       "      <td>2019-10-03T00:00:00Z</td>\n",
       "      <td>726162197</td>\n",
       "      <td>brain_observatory_1.1</td>\n",
       "      <td>92.0</td>\n",
       "      <td>M</td>\n",
       "      <td>wt/wt</td>\n",
       "      <td>761</td>\n",
       "      <td>2223</td>\n",
       "      <td>6</td>\n",
       "      <td>[LP, DG, CA1, VISp, nan, LGd, CA3, VISrl, VPM,...</td>\n",
       "    </tr>\n",
       "    <tr>\n",
       "      <th>751348571</th>\n",
       "      <td>2019-10-03T00:00:00Z</td>\n",
       "      <td>732548380</td>\n",
       "      <td>brain_observatory_1.1</td>\n",
       "      <td>93.0</td>\n",
       "      <td>F</td>\n",
       "      <td>Vip-IRES-Cre/wt;Ai32(RCL-ChR2(H134R)_EYFP)/wt</td>\n",
       "      <td>859</td>\n",
       "      <td>2217</td>\n",
       "      <td>6</td>\n",
       "      <td>[grey, LGv, CA3, DG, CA1, VISl, nan, APN, POL,...</td>\n",
       "    </tr>\n",
       "    <tr>\n",
       "      <th>754312389</th>\n",
       "      <td>2019-10-03T00:00:00Z</td>\n",
       "      <td>719828690</td>\n",
       "      <td>brain_observatory_1.1</td>\n",
       "      <td>140.0</td>\n",
       "      <td>M</td>\n",
       "      <td>wt/wt</td>\n",
       "      <td>502</td>\n",
       "      <td>2220</td>\n",
       "      <td>6</td>\n",
       "      <td>[APN, POL, LP, DG, CA1, VISam, nan, LGd, HPF, ...</td>\n",
       "    </tr>\n",
       "    <tr>\n",
       "      <th>754829445</th>\n",
       "      <td>2019-10-03T00:00:00Z</td>\n",
       "      <td>726298253</td>\n",
       "      <td>brain_observatory_1.1</td>\n",
       "      <td>141.0</td>\n",
       "      <td>M</td>\n",
       "      <td>wt/wt</td>\n",
       "      <td>832</td>\n",
       "      <td>1851</td>\n",
       "      <td>5</td>\n",
       "      <td>[PoT, LP, LGd, CA3, DG, CA1, VISp, nan, VPM, C...</td>\n",
       "    </tr>\n",
       "    <tr>\n",
       "      <th>755434585</th>\n",
       "      <td>2019-10-03T00:00:00Z</td>\n",
       "      <td>730760270</td>\n",
       "      <td>brain_observatory_1.1</td>\n",
       "      <td>100.0</td>\n",
       "      <td>M</td>\n",
       "      <td>Vip-IRES-Cre/wt;Ai32(RCL-ChR2(H134R)_EYFP)/wt</td>\n",
       "      <td>650</td>\n",
       "      <td>2220</td>\n",
       "      <td>6</td>\n",
       "      <td>[grey, VISrl, nan, MGv, MGd, TH, LGd, CA3, DG,...</td>\n",
       "    </tr>\n",
       "    <tr>\n",
       "      <th>756029989</th>\n",
       "      <td>2019-10-03T00:00:00Z</td>\n",
       "      <td>734865738</td>\n",
       "      <td>brain_observatory_1.1</td>\n",
       "      <td>96.0</td>\n",
       "      <td>M</td>\n",
       "      <td>Sst-IRES-Cre/wt;Ai32(RCL-ChR2(H134R)_EYFP)/wt</td>\n",
       "      <td>684</td>\n",
       "      <td>2214</td>\n",
       "      <td>6</td>\n",
       "      <td>[TH, DG, CA3, CA1, VISl, nan, PO, Eth, LP, VIS...</td>\n",
       "    </tr>\n",
       "    <tr>\n",
       "      <th>757216464</th>\n",
       "      <td>2019-10-03T00:00:00Z</td>\n",
       "      <td>733457989</td>\n",
       "      <td>brain_observatory_1.1</td>\n",
       "      <td>105.0</td>\n",
       "      <td>M</td>\n",
       "      <td>wt/wt</td>\n",
       "      <td>959</td>\n",
       "      <td>2225</td>\n",
       "      <td>6</td>\n",
       "      <td>[LP, DG, CA3, CA1, VISrl, nan, PO, LGd, HPF, V...</td>\n",
       "    </tr>\n",
       "    <tr>\n",
       "      <th>757970808</th>\n",
       "      <td>2019-10-03T00:00:00Z</td>\n",
       "      <td>730756780</td>\n",
       "      <td>brain_observatory_1.1</td>\n",
       "      <td>106.0</td>\n",
       "      <td>M</td>\n",
       "      <td>wt/wt</td>\n",
       "      <td>773</td>\n",
       "      <td>1853</td>\n",
       "      <td>5</td>\n",
       "      <td>[grey, DG, CA3, CA1, VISli, nan, MGd, SGN, LP,...</td>\n",
       "    </tr>\n",
       "    <tr>\n",
       "      <th>758798717</th>\n",
       "      <td>2019-10-03T00:00:00Z</td>\n",
       "      <td>735109609</td>\n",
       "      <td>brain_observatory_1.1</td>\n",
       "      <td>102.0</td>\n",
       "      <td>M</td>\n",
       "      <td>Sst-IRES-Cre/wt;Ai32(RCL-ChR2(H134R)_EYFP)/wt</td>\n",
       "      <td>593</td>\n",
       "      <td>1486</td>\n",
       "      <td>4</td>\n",
       "      <td>[MGv, MGd, TH, DG, CA1, VISal, nan, SGN, LP, S...</td>\n",
       "    </tr>\n",
       "    <tr>\n",
       "      <th>759883607</th>\n",
       "      <td>2019-10-03T00:00:00Z</td>\n",
       "      <td>740268986</td>\n",
       "      <td>brain_observatory_1.1</td>\n",
       "      <td>113.0</td>\n",
       "      <td>M</td>\n",
       "      <td>wt/wt</td>\n",
       "      <td>483</td>\n",
       "      <td>1489</td>\n",
       "      <td>4</td>\n",
       "      <td>[MB, SCig, PPT, NOT, SUB, ProS, CA1, VISam, na...</td>\n",
       "    </tr>\n",
       "    <tr>\n",
       "      <th>760345702</th>\n",
       "      <td>2019-10-03T00:00:00Z</td>\n",
       "      <td>739783171</td>\n",
       "      <td>brain_observatory_1.1</td>\n",
       "      <td>103.0</td>\n",
       "      <td>M</td>\n",
       "      <td>Pvalb-IRES-Cre/wt;Ai32(RCL-ChR2(H134R)_EYFP)/wt</td>\n",
       "      <td>501</td>\n",
       "      <td>1862</td>\n",
       "      <td>5</td>\n",
       "      <td>[MB, TH, PP, PIL, DG, CA3, CA1, VISal, nan, gr...</td>\n",
       "    </tr>\n",
       "    <tr>\n",
       "      <th>760693773</th>\n",
       "      <td>2019-10-03T00:00:00Z</td>\n",
       "      <td>738651054</td>\n",
       "      <td>brain_observatory_1.1</td>\n",
       "      <td>110.0</td>\n",
       "      <td>F</td>\n",
       "      <td>Sst-IRES-Cre/wt;Ai32(RCL-ChR2(H134R)_EYFP)/wt</td>\n",
       "      <td>826</td>\n",
       "      <td>2233</td>\n",
       "      <td>6</td>\n",
       "      <td>[grey, VISrl, nan, VISal, VISp, VISpm, VISam]</td>\n",
       "    </tr>\n",
       "    <tr>\n",
       "      <th>761418226</th>\n",
       "      <td>2019-10-03T00:00:00Z</td>\n",
       "      <td>742714475</td>\n",
       "      <td>brain_observatory_1.1</td>\n",
       "      <td>119.0</td>\n",
       "      <td>M</td>\n",
       "      <td>wt/wt</td>\n",
       "      <td>712</td>\n",
       "      <td>2230</td>\n",
       "      <td>6</td>\n",
       "      <td>[grey, CA3, CA2, CA1, VISal, nan, LGd, HPF, DG...</td>\n",
       "    </tr>\n",
       "    <tr>\n",
       "      <th>762120172</th>\n",
       "      <td>2019-10-03T00:00:00Z</td>\n",
       "      <td>745276236</td>\n",
       "      <td>brain_observatory_1.1</td>\n",
       "      <td>100.0</td>\n",
       "      <td>M</td>\n",
       "      <td>Vip-IRES-Cre/wt;Ai32(RCL-ChR2(H134R)_EYFP)/wt</td>\n",
       "      <td>717</td>\n",
       "      <td>1860</td>\n",
       "      <td>5</td>\n",
       "      <td>[grey, VISal, nan, VISl, VISp, VIS, VISam]</td>\n",
       "    </tr>\n",
       "    <tr>\n",
       "      <th>762602078</th>\n",
       "      <td>2019-10-03T00:00:00Z</td>\n",
       "      <td>744915204</td>\n",
       "      <td>brain_observatory_1.1</td>\n",
       "      <td>110.0</td>\n",
       "      <td>M</td>\n",
       "      <td>Sst-IRES-Cre/wt;Ai32(RCL-ChR2(H134R)_EYFP)/wt</td>\n",
       "      <td>531</td>\n",
       "      <td>2233</td>\n",
       "      <td>6</td>\n",
       "      <td>[MB, APN, NOT, DG, CA1, VISam, nan, VISrl, LGv...</td>\n",
       "    </tr>\n",
       "    <tr>\n",
       "      <th>763673393</th>\n",
       "      <td>2019-10-03T00:00:00Z</td>\n",
       "      <td>742602892</td>\n",
       "      <td>brain_observatory_1.1</td>\n",
       "      <td>126.0</td>\n",
       "      <td>M</td>\n",
       "      <td>wt/wt</td>\n",
       "      <td>629</td>\n",
       "      <td>2227</td>\n",
       "      <td>6</td>\n",
       "      <td>[CA3, CA2, CA1, VISl, nan, APN, MB, DG, VISam,...</td>\n",
       "    </tr>\n",
       "    <tr>\n",
       "      <th>766640955</th>\n",
       "      <td>2019-10-03T00:00:00Z</td>\n",
       "      <td>744912849</td>\n",
       "      <td>functional_connectivity</td>\n",
       "      <td>133.0</td>\n",
       "      <td>M</td>\n",
       "      <td>wt/wt</td>\n",
       "      <td>842</td>\n",
       "      <td>2233</td>\n",
       "      <td>6</td>\n",
       "      <td>[MB, APN, NOT, DG, CA1, VISam, nan, PF, TH, LP...</td>\n",
       "    </tr>\n",
       "    <tr>\n",
       "      <th>767871931</th>\n",
       "      <td>2019-10-03T00:00:00Z</td>\n",
       "      <td>753795610</td>\n",
       "      <td>functional_connectivity</td>\n",
       "      <td>135.0</td>\n",
       "      <td>M</td>\n",
       "      <td>wt/wt</td>\n",
       "      <td>713</td>\n",
       "      <td>2231</td>\n",
       "      <td>6</td>\n",
       "      <td>[MRN, APN, MB, DG, CA1, VISrl, nan, VISam, PO,...</td>\n",
       "    </tr>\n",
       "    <tr>\n",
       "      <th>768515987</th>\n",
       "      <td>2019-10-03T00:00:00Z</td>\n",
       "      <td>754477358</td>\n",
       "      <td>functional_connectivity</td>\n",
       "      <td>136.0</td>\n",
       "      <td>M</td>\n",
       "      <td>wt/wt</td>\n",
       "      <td>802</td>\n",
       "      <td>2217</td>\n",
       "      <td>6</td>\n",
       "      <td>[MB, APN, NOT, DG, CA1, VISam, nan, Eth, LP, P...</td>\n",
       "    </tr>\n",
       "    <tr>\n",
       "      <th>771160300</th>\n",
       "      <td>2019-10-03T00:00:00Z</td>\n",
       "      <td>754488979</td>\n",
       "      <td>functional_connectivity</td>\n",
       "      <td>142.0</td>\n",
       "      <td>M</td>\n",
       "      <td>wt/wt</td>\n",
       "      <td>930</td>\n",
       "      <td>2230</td>\n",
       "      <td>6</td>\n",
       "      <td>[SCig, PPT, NOT, SUB, ProS, CA1, VISam, nan, A...</td>\n",
       "    </tr>\n",
       "    <tr>\n",
       "      <th>771990200</th>\n",
       "      <td>2019-10-03T00:00:00Z</td>\n",
       "      <td>756578435</td>\n",
       "      <td>functional_connectivity</td>\n",
       "      <td>108.0</td>\n",
       "      <td>M</td>\n",
       "      <td>wt/wt</td>\n",
       "      <td>546</td>\n",
       "      <td>2229</td>\n",
       "      <td>6</td>\n",
       "      <td>[APN, MB, DG, CA1, VISam, nan, PO, LP, VISpm, ...</td>\n",
       "    </tr>\n",
       "    <tr>\n",
       "      <th>773418906</th>\n",
       "      <td>2019-10-03T00:00:00Z</td>\n",
       "      <td>757329624</td>\n",
       "      <td>brain_observatory_1.1</td>\n",
       "      <td>124.0</td>\n",
       "      <td>F</td>\n",
       "      <td>Pvalb-IRES-Cre/wt;Ai32(RCL-ChR2(H134R)_EYFP)/wt</td>\n",
       "      <td>546</td>\n",
       "      <td>2232</td>\n",
       "      <td>6</td>\n",
       "      <td>[PPT, NOT, SUB, ProS, CA1, VISam, nan, APN, DG...</td>\n",
       "    </tr>\n",
       "    <tr>\n",
       "      <th>774875821</th>\n",
       "      <td>2019-10-03T00:00:00Z</td>\n",
       "      <td>759711152</td>\n",
       "      <td>functional_connectivity</td>\n",
       "      <td>114.0</td>\n",
       "      <td>M</td>\n",
       "      <td>wt/wt</td>\n",
       "      <td>649</td>\n",
       "      <td>2233</td>\n",
       "      <td>6</td>\n",
       "      <td>[APN, LP, DG, CA1, VISrl, nan, MGv, MGd, CA3, ...</td>\n",
       "    </tr>\n",
       "    <tr>\n",
       "      <th>778240327</th>\n",
       "      <td>2019-10-03T00:00:00Z</td>\n",
       "      <td>760938797</td>\n",
       "      <td>functional_connectivity</td>\n",
       "      <td>120.0</td>\n",
       "      <td>M</td>\n",
       "      <td>wt/wt</td>\n",
       "      <td>784</td>\n",
       "      <td>2234</td>\n",
       "      <td>6</td>\n",
       "      <td>[APN, POL, LP, DG, CA1, VISrl, nan, ZI, IntG, ...</td>\n",
       "    </tr>\n",
       "    <tr>\n",
       "      <th>778998620</th>\n",
       "      <td>2019-10-03T00:00:00Z</td>\n",
       "      <td>759674770</td>\n",
       "      <td>functional_connectivity</td>\n",
       "      <td>121.0</td>\n",
       "      <td>M</td>\n",
       "      <td>wt/wt</td>\n",
       "      <td>793</td>\n",
       "      <td>2229</td>\n",
       "      <td>6</td>\n",
       "      <td>[APN, POL, LP, DG, CA3, CA1, VISrl, nan, ZI, M...</td>\n",
       "    </tr>\n",
       "    <tr>\n",
       "      <th>779839471</th>\n",
       "      <td>2019-10-03T00:00:00Z</td>\n",
       "      <td>760960653</td>\n",
       "      <td>functional_connectivity</td>\n",
       "      <td>122.0</td>\n",
       "      <td>M</td>\n",
       "      <td>wt/wt</td>\n",
       "      <td>863</td>\n",
       "      <td>2220</td>\n",
       "      <td>6</td>\n",
       "      <td>[APN, LP, MB, DG, CA1, VISrl, nan, TH, LGd, CA...</td>\n",
       "    </tr>\n",
       "    <tr>\n",
       "      <th>781842082</th>\n",
       "      <td>2019-10-03T00:00:00Z</td>\n",
       "      <td>760946813</td>\n",
       "      <td>functional_connectivity</td>\n",
       "      <td>126.0</td>\n",
       "      <td>M</td>\n",
       "      <td>wt/wt</td>\n",
       "      <td>833</td>\n",
       "      <td>2232</td>\n",
       "      <td>6</td>\n",
       "      <td>[APN, LP, DG, CA1, VISrl, nan, MGm, TH, MGv, L...</td>\n",
       "    </tr>\n",
       "    <tr>\n",
       "      <th>786091066</th>\n",
       "      <td>2019-10-03T00:00:00Z</td>\n",
       "      <td>763884103</td>\n",
       "      <td>functional_connectivity</td>\n",
       "      <td>111.0</td>\n",
       "      <td>F</td>\n",
       "      <td>Sst-IRES-Cre/wt;Ai32(RCL-ChR2(H134R)_EYFP)/wt</td>\n",
       "      <td>700</td>\n",
       "      <td>2232</td>\n",
       "      <td>6</td>\n",
       "      <td>[APN, MB, DG, CA1, VISrl, nan, MGd, CA3, VISal...</td>\n",
       "    </tr>\n",
       "    <tr>\n",
       "      <th>787025148</th>\n",
       "      <td>2019-10-03T00:00:00Z</td>\n",
       "      <td>763236014</td>\n",
       "      <td>functional_connectivity</td>\n",
       "      <td>114.0</td>\n",
       "      <td>M</td>\n",
       "      <td>Sst-IRES-Cre/wt;Ai32(RCL-ChR2(H134R)_EYFP)/wt</td>\n",
       "      <td>696</td>\n",
       "      <td>2231</td>\n",
       "      <td>6</td>\n",
       "      <td>[SCiw, SCig, PPT, NOT, DG, SUB, ProS, CA1, VIS...</td>\n",
       "    </tr>\n",
       "    <tr>\n",
       "      <th>789848216</th>\n",
       "      <td>2019-10-03T00:00:00Z</td>\n",
       "      <td>763808604</td>\n",
       "      <td>functional_connectivity</td>\n",
       "      <td>119.0</td>\n",
       "      <td>M</td>\n",
       "      <td>Sst-IRES-Cre/wt;Ai32(RCL-ChR2(H134R)_EYFP)/wt</td>\n",
       "      <td>415</td>\n",
       "      <td>2230</td>\n",
       "      <td>6</td>\n",
       "      <td>[grey, CA3, CA2, CA1, VISal, nan, LP, LD, VISr...</td>\n",
       "    </tr>\n",
       "    <tr>\n",
       "      <th>791319847</th>\n",
       "      <td>2019-10-03T00:00:00Z</td>\n",
       "      <td>769360779</td>\n",
       "      <td>brain_observatory_1.1</td>\n",
       "      <td>116.0</td>\n",
       "      <td>M</td>\n",
       "      <td>Vip-IRES-Cre/wt;Ai32(RCL-ChR2(H134R)_EYFP)/wt</td>\n",
       "      <td>555</td>\n",
       "      <td>2229</td>\n",
       "      <td>6</td>\n",
       "      <td>[APN, DG, CA1, VISam, nan, LP, TH, VISpm, POL,...</td>\n",
       "    </tr>\n",
       "    <tr>\n",
       "      <th>793224716</th>\n",
       "      <td>2019-10-03T00:00:00Z</td>\n",
       "      <td>769319624</td>\n",
       "      <td>functional_connectivity</td>\n",
       "      <td>120.0</td>\n",
       "      <td>M</td>\n",
       "      <td>wt/wt</td>\n",
       "      <td>781</td>\n",
       "      <td>2229</td>\n",
       "      <td>6</td>\n",
       "      <td>[APN, NOT, MB, DG, CA1, VIS, nan, Eth, LP, SGN...</td>\n",
       "    </tr>\n",
       "    <tr>\n",
       "      <th>794812542</th>\n",
       "      <td>2019-10-03T00:00:00Z</td>\n",
       "      <td>774672366</td>\n",
       "      <td>functional_connectivity</td>\n",
       "      <td>120.0</td>\n",
       "      <td>F</td>\n",
       "      <td>Sst-IRES-Cre/wt;Ai32(RCL-ChR2(H134R)_EYFP)/wt</td>\n",
       "      <td>1005</td>\n",
       "      <td>2229</td>\n",
       "      <td>6</td>\n",
       "      <td>[MB, APN, DG, CA1, VISrl, nan, PIL, MGm, MGv, ...</td>\n",
       "    </tr>\n",
       "    <tr>\n",
       "      <th>797828357</th>\n",
       "      <td>2019-10-03T00:00:00Z</td>\n",
       "      <td>776061251</td>\n",
       "      <td>brain_observatory_1.1</td>\n",
       "      <td>107.0</td>\n",
       "      <td>M</td>\n",
       "      <td>Pvalb-IRES-Cre/wt;Ai32(RCL-ChR2(H134R)_EYFP)/wt</td>\n",
       "      <td>611</td>\n",
       "      <td>2232</td>\n",
       "      <td>6</td>\n",
       "      <td>[PPT, MB, APN, NOT, HPF, ProS, CA1, VISam, nan...</td>\n",
       "    </tr>\n",
       "    <tr>\n",
       "      <th>798911424</th>\n",
       "      <td>2019-10-03T00:00:00Z</td>\n",
       "      <td>775876828</td>\n",
       "      <td>brain_observatory_1.1</td>\n",
       "      <td>110.0</td>\n",
       "      <td>F</td>\n",
       "      <td>Vip-IRES-Cre/wt;Ai32(RCL-ChR2(H134R)_EYFP)/wt</td>\n",
       "      <td>825</td>\n",
       "      <td>2233</td>\n",
       "      <td>6</td>\n",
       "      <td>[APN, TH, Eth, LP, DG, HPF, CA3, CA1, VISrl, n...</td>\n",
       "    </tr>\n",
       "    <tr>\n",
       "      <th>799864342</th>\n",
       "      <td>2019-10-03T00:00:00Z</td>\n",
       "      <td>772616823</td>\n",
       "      <td>brain_observatory_1.1</td>\n",
       "      <td>129.0</td>\n",
       "      <td>M</td>\n",
       "      <td>wt/wt</td>\n",
       "      <td>604</td>\n",
       "      <td>2233</td>\n",
       "      <td>6</td>\n",
       "      <td>[APN, POL, LP, DG, CA1, VISrl, nan, LGd, CA3, ...</td>\n",
       "    </tr>\n",
       "    <tr>\n",
       "      <th>816200189</th>\n",
       "      <td>2019-10-03T00:00:00Z</td>\n",
       "      <td>791857608</td>\n",
       "      <td>functional_connectivity</td>\n",
       "      <td>128.0</td>\n",
       "      <td>F</td>\n",
       "      <td>Vip-IRES-Cre/wt;Ai32(RCL-ChR2(H134R)_EYFP)/wt</td>\n",
       "      <td>634</td>\n",
       "      <td>1857</td>\n",
       "      <td>5</td>\n",
       "      <td>[MRN, APN, MB, DG, CA1, VISam, nan, LP, VISpm,...</td>\n",
       "    </tr>\n",
       "    <tr>\n",
       "      <th>819186360</th>\n",
       "      <td>2019-10-03T00:00:00Z</td>\n",
       "      <td>800249587</td>\n",
       "      <td>functional_connectivity</td>\n",
       "      <td>128.0</td>\n",
       "      <td>F</td>\n",
       "      <td>wt/wt</td>\n",
       "      <td>531</td>\n",
       "      <td>1696</td>\n",
       "      <td>5</td>\n",
       "      <td>[SCiw, SCig, NOT, MB, SCop, HPF, SUB, VISam, n...</td>\n",
       "    </tr>\n",
       "    <tr>\n",
       "      <th>819701982</th>\n",
       "      <td>2019-10-03T00:00:00Z</td>\n",
       "      <td>795770036</td>\n",
       "      <td>functional_connectivity</td>\n",
       "      <td>135.0</td>\n",
       "      <td>F</td>\n",
       "      <td>Vip-IRES-Cre/wt;Ai32(RCL-ChR2(H134R)_EYFP)/wt</td>\n",
       "      <td>585</td>\n",
       "      <td>1852</td>\n",
       "      <td>5</td>\n",
       "      <td>[MB, SCiw, SCig, PPT, NOT, SUB, ProS, CA1, VIS...</td>\n",
       "    </tr>\n",
       "    <tr>\n",
       "      <th>821695405</th>\n",
       "      <td>2019-10-03T00:00:00Z</td>\n",
       "      <td>800250057</td>\n",
       "      <td>functional_connectivity</td>\n",
       "      <td>134.0</td>\n",
       "      <td>F</td>\n",
       "      <td>wt/wt</td>\n",
       "      <td>474</td>\n",
       "      <td>1856</td>\n",
       "      <td>5</td>\n",
       "      <td>[LGv, TH, DG, CA3, CA1, ProS, VISl, nan, grey,...</td>\n",
       "    </tr>\n",
       "    <tr>\n",
       "      <th>829720705</th>\n",
       "      <td>2019-10-03T00:00:00Z</td>\n",
       "      <td>811322619</td>\n",
       "      <td>functional_connectivity</td>\n",
       "      <td>112.0</td>\n",
       "      <td>M</td>\n",
       "      <td>Pvalb-IRES-Cre/wt;Ai32(RCL-ChR2(H134R)_EYFP)/wt</td>\n",
       "      <td>529</td>\n",
       "      <td>1841</td>\n",
       "      <td>5</td>\n",
       "      <td>[SCig, SCop, SCsg, SCzo, POST, VISp, nan, CA1,...</td>\n",
       "    </tr>\n",
       "    <tr>\n",
       "      <th>831882777</th>\n",
       "      <td>2019-10-03T00:00:00Z</td>\n",
       "      <td>803390291</td>\n",
       "      <td>functional_connectivity</td>\n",
       "      <td>137.0</td>\n",
       "      <td>M</td>\n",
       "      <td>Sst-IRES-Cre/wt;Ai32(RCL-ChR2(H134R)_EYFP)/wt</td>\n",
       "      <td>657</td>\n",
       "      <td>2227</td>\n",
       "      <td>6</td>\n",
       "      <td>[grey, DG, CA1, VISrl, nan, VISal, VISl, MB, S...</td>\n",
       "    </tr>\n",
       "    <tr>\n",
       "      <th>835479236</th>\n",
       "      <td>2019-10-03T00:00:00Z</td>\n",
       "      <td>813701562</td>\n",
       "      <td>functional_connectivity</td>\n",
       "      <td>121.0</td>\n",
       "      <td>M</td>\n",
       "      <td>Vip-IRES-Cre/wt;Ai32(RCL-ChR2(H134R)_EYFP)/wt</td>\n",
       "      <td>582</td>\n",
       "      <td>1857</td>\n",
       "      <td>5</td>\n",
       "      <td>[LP, DG, CA1, VISmmp, nan, SCiw, SCig, SCop, S...</td>\n",
       "    </tr>\n",
       "    <tr>\n",
       "      <th>839068429</th>\n",
       "      <td>2019-10-03T00:00:00Z</td>\n",
       "      <td>817060751</td>\n",
       "      <td>functional_connectivity</td>\n",
       "      <td>129.0</td>\n",
       "      <td>F</td>\n",
       "      <td>Sst-IRES-Cre/wt;Ai32(RCL-ChR2(H134R)_EYFP)/wt</td>\n",
       "      <td>742</td>\n",
       "      <td>2298</td>\n",
       "      <td>6</td>\n",
       "      <td>[APN, LP, MB, DG, CA1, VISam, nan, VISpm, ProS...</td>\n",
       "    </tr>\n",
       "    <tr>\n",
       "      <th>839557629</th>\n",
       "      <td>2019-10-03T00:00:00Z</td>\n",
       "      <td>821469666</td>\n",
       "      <td>functional_connectivity</td>\n",
       "      <td>115.0</td>\n",
       "      <td>M</td>\n",
       "      <td>Pvalb-IRES-Cre/wt;Ai32(RCL-ChR2(H134R)_EYFP)/wt</td>\n",
       "      <td>450</td>\n",
       "      <td>1853</td>\n",
       "      <td>5</td>\n",
       "      <td>[APN, NOT, MB, DG, CA1, VISam, nan, VISpm, LGd...</td>\n",
       "    </tr>\n",
       "    <tr>\n",
       "      <th>840012044</th>\n",
       "      <td>2019-10-03T00:00:00Z</td>\n",
       "      <td>820866121</td>\n",
       "      <td>functional_connectivity</td>\n",
       "      <td>116.0</td>\n",
       "      <td>M</td>\n",
       "      <td>Pvalb-IRES-Cre/wt;Ai32(RCL-ChR2(H134R)_EYFP)/wt</td>\n",
       "      <td>758</td>\n",
       "      <td>2298</td>\n",
       "      <td>6</td>\n",
       "      <td>[APN, DG, CA1, VISam, nan, LP, VISpm, VISp, LG...</td>\n",
       "    </tr>\n",
       "    <tr>\n",
       "      <th>847657808</th>\n",
       "      <td>2019-10-03T00:00:00Z</td>\n",
       "      <td>827809884</td>\n",
       "      <td>functional_connectivity</td>\n",
       "      <td>126.0</td>\n",
       "      <td>F</td>\n",
       "      <td>wt/wt</td>\n",
       "      <td>874</td>\n",
       "      <td>2298</td>\n",
       "      <td>6</td>\n",
       "      <td>[APN, NOT, DG, HPF, ProS, CA1, VISam, nan, MB,...</td>\n",
       "    </tr>\n",
       "  </tbody>\n",
       "</table>\n",
       "</div>"
      ],
      "text/plain": [
       "                   published_at  specimen_id             session_type  \\\n",
       "id                                                                      \n",
       "715093703  2019-10-03T00:00:00Z    699733581    brain_observatory_1.1   \n",
       "719161530  2019-10-03T00:00:00Z    703279284    brain_observatory_1.1   \n",
       "721123822  2019-10-03T00:00:00Z    707296982    brain_observatory_1.1   \n",
       "732592105  2019-10-03T00:00:00Z    717038288    brain_observatory_1.1   \n",
       "737581020  2019-10-03T00:00:00Z    718643567    brain_observatory_1.1   \n",
       "739448407  2019-10-03T00:00:00Z    716813543    brain_observatory_1.1   \n",
       "742951821  2019-10-03T00:00:00Z    723627604    brain_observatory_1.1   \n",
       "743475441  2019-10-03T00:00:00Z    722882755    brain_observatory_1.1   \n",
       "744228101  2019-10-03T00:00:00Z    719817805    brain_observatory_1.1   \n",
       "746083955  2019-10-03T00:00:00Z    726170935    brain_observatory_1.1   \n",
       "750332458  2019-10-03T00:00:00Z    726141251    brain_observatory_1.1   \n",
       "750749662  2019-10-03T00:00:00Z    726162197    brain_observatory_1.1   \n",
       "751348571  2019-10-03T00:00:00Z    732548380    brain_observatory_1.1   \n",
       "754312389  2019-10-03T00:00:00Z    719828690    brain_observatory_1.1   \n",
       "754829445  2019-10-03T00:00:00Z    726298253    brain_observatory_1.1   \n",
       "755434585  2019-10-03T00:00:00Z    730760270    brain_observatory_1.1   \n",
       "756029989  2019-10-03T00:00:00Z    734865738    brain_observatory_1.1   \n",
       "757216464  2019-10-03T00:00:00Z    733457989    brain_observatory_1.1   \n",
       "757970808  2019-10-03T00:00:00Z    730756780    brain_observatory_1.1   \n",
       "758798717  2019-10-03T00:00:00Z    735109609    brain_observatory_1.1   \n",
       "759883607  2019-10-03T00:00:00Z    740268986    brain_observatory_1.1   \n",
       "760345702  2019-10-03T00:00:00Z    739783171    brain_observatory_1.1   \n",
       "760693773  2019-10-03T00:00:00Z    738651054    brain_observatory_1.1   \n",
       "761418226  2019-10-03T00:00:00Z    742714475    brain_observatory_1.1   \n",
       "762120172  2019-10-03T00:00:00Z    745276236    brain_observatory_1.1   \n",
       "762602078  2019-10-03T00:00:00Z    744915204    brain_observatory_1.1   \n",
       "763673393  2019-10-03T00:00:00Z    742602892    brain_observatory_1.1   \n",
       "766640955  2019-10-03T00:00:00Z    744912849  functional_connectivity   \n",
       "767871931  2019-10-03T00:00:00Z    753795610  functional_connectivity   \n",
       "768515987  2019-10-03T00:00:00Z    754477358  functional_connectivity   \n",
       "771160300  2019-10-03T00:00:00Z    754488979  functional_connectivity   \n",
       "771990200  2019-10-03T00:00:00Z    756578435  functional_connectivity   \n",
       "773418906  2019-10-03T00:00:00Z    757329624    brain_observatory_1.1   \n",
       "774875821  2019-10-03T00:00:00Z    759711152  functional_connectivity   \n",
       "778240327  2019-10-03T00:00:00Z    760938797  functional_connectivity   \n",
       "778998620  2019-10-03T00:00:00Z    759674770  functional_connectivity   \n",
       "779839471  2019-10-03T00:00:00Z    760960653  functional_connectivity   \n",
       "781842082  2019-10-03T00:00:00Z    760946813  functional_connectivity   \n",
       "786091066  2019-10-03T00:00:00Z    763884103  functional_connectivity   \n",
       "787025148  2019-10-03T00:00:00Z    763236014  functional_connectivity   \n",
       "789848216  2019-10-03T00:00:00Z    763808604  functional_connectivity   \n",
       "791319847  2019-10-03T00:00:00Z    769360779    brain_observatory_1.1   \n",
       "793224716  2019-10-03T00:00:00Z    769319624  functional_connectivity   \n",
       "794812542  2019-10-03T00:00:00Z    774672366  functional_connectivity   \n",
       "797828357  2019-10-03T00:00:00Z    776061251    brain_observatory_1.1   \n",
       "798911424  2019-10-03T00:00:00Z    775876828    brain_observatory_1.1   \n",
       "799864342  2019-10-03T00:00:00Z    772616823    brain_observatory_1.1   \n",
       "816200189  2019-10-03T00:00:00Z    791857608  functional_connectivity   \n",
       "819186360  2019-10-03T00:00:00Z    800249587  functional_connectivity   \n",
       "819701982  2019-10-03T00:00:00Z    795770036  functional_connectivity   \n",
       "821695405  2019-10-03T00:00:00Z    800250057  functional_connectivity   \n",
       "829720705  2019-10-03T00:00:00Z    811322619  functional_connectivity   \n",
       "831882777  2019-10-03T00:00:00Z    803390291  functional_connectivity   \n",
       "835479236  2019-10-03T00:00:00Z    813701562  functional_connectivity   \n",
       "839068429  2019-10-03T00:00:00Z    817060751  functional_connectivity   \n",
       "839557629  2019-10-03T00:00:00Z    821469666  functional_connectivity   \n",
       "840012044  2019-10-03T00:00:00Z    820866121  functional_connectivity   \n",
       "847657808  2019-10-03T00:00:00Z    827809884  functional_connectivity   \n",
       "\n",
       "           age_in_days sex                                    full_genotype  \\\n",
       "id                                                                            \n",
       "715093703        118.0   M    Sst-IRES-Cre/wt;Ai32(RCL-ChR2(H134R)_EYFP)/wt   \n",
       "719161530        122.0   M    Sst-IRES-Cre/wt;Ai32(RCL-ChR2(H134R)_EYFP)/wt   \n",
       "721123822        125.0   M  Pvalb-IRES-Cre/wt;Ai32(RCL-ChR2(H134R)_EYFP)/wt   \n",
       "732592105        100.0   M                                            wt/wt   \n",
       "737581020        108.0   M                                            wt/wt   \n",
       "739448407        112.0   M                                            wt/wt   \n",
       "742951821        120.0   M                                            wt/wt   \n",
       "743475441        121.0   M                                            wt/wt   \n",
       "744228101        122.0   M                                            wt/wt   \n",
       "746083955         98.0   F  Pvalb-IRES-Cre/wt;Ai32(RCL-ChR2(H134R)_EYFP)/wt   \n",
       "750332458         91.0   M                                            wt/wt   \n",
       "750749662         92.0   M                                            wt/wt   \n",
       "751348571         93.0   F    Vip-IRES-Cre/wt;Ai32(RCL-ChR2(H134R)_EYFP)/wt   \n",
       "754312389        140.0   M                                            wt/wt   \n",
       "754829445        141.0   M                                            wt/wt   \n",
       "755434585        100.0   M    Vip-IRES-Cre/wt;Ai32(RCL-ChR2(H134R)_EYFP)/wt   \n",
       "756029989         96.0   M    Sst-IRES-Cre/wt;Ai32(RCL-ChR2(H134R)_EYFP)/wt   \n",
       "757216464        105.0   M                                            wt/wt   \n",
       "757970808        106.0   M                                            wt/wt   \n",
       "758798717        102.0   M    Sst-IRES-Cre/wt;Ai32(RCL-ChR2(H134R)_EYFP)/wt   \n",
       "759883607        113.0   M                                            wt/wt   \n",
       "760345702        103.0   M  Pvalb-IRES-Cre/wt;Ai32(RCL-ChR2(H134R)_EYFP)/wt   \n",
       "760693773        110.0   F    Sst-IRES-Cre/wt;Ai32(RCL-ChR2(H134R)_EYFP)/wt   \n",
       "761418226        119.0   M                                            wt/wt   \n",
       "762120172        100.0   M    Vip-IRES-Cre/wt;Ai32(RCL-ChR2(H134R)_EYFP)/wt   \n",
       "762602078        110.0   M    Sst-IRES-Cre/wt;Ai32(RCL-ChR2(H134R)_EYFP)/wt   \n",
       "763673393        126.0   M                                            wt/wt   \n",
       "766640955        133.0   M                                            wt/wt   \n",
       "767871931        135.0   M                                            wt/wt   \n",
       "768515987        136.0   M                                            wt/wt   \n",
       "771160300        142.0   M                                            wt/wt   \n",
       "771990200        108.0   M                                            wt/wt   \n",
       "773418906        124.0   F  Pvalb-IRES-Cre/wt;Ai32(RCL-ChR2(H134R)_EYFP)/wt   \n",
       "774875821        114.0   M                                            wt/wt   \n",
       "778240327        120.0   M                                            wt/wt   \n",
       "778998620        121.0   M                                            wt/wt   \n",
       "779839471        122.0   M                                            wt/wt   \n",
       "781842082        126.0   M                                            wt/wt   \n",
       "786091066        111.0   F    Sst-IRES-Cre/wt;Ai32(RCL-ChR2(H134R)_EYFP)/wt   \n",
       "787025148        114.0   M    Sst-IRES-Cre/wt;Ai32(RCL-ChR2(H134R)_EYFP)/wt   \n",
       "789848216        119.0   M    Sst-IRES-Cre/wt;Ai32(RCL-ChR2(H134R)_EYFP)/wt   \n",
       "791319847        116.0   M    Vip-IRES-Cre/wt;Ai32(RCL-ChR2(H134R)_EYFP)/wt   \n",
       "793224716        120.0   M                                            wt/wt   \n",
       "794812542        120.0   F    Sst-IRES-Cre/wt;Ai32(RCL-ChR2(H134R)_EYFP)/wt   \n",
       "797828357        107.0   M  Pvalb-IRES-Cre/wt;Ai32(RCL-ChR2(H134R)_EYFP)/wt   \n",
       "798911424        110.0   F    Vip-IRES-Cre/wt;Ai32(RCL-ChR2(H134R)_EYFP)/wt   \n",
       "799864342        129.0   M                                            wt/wt   \n",
       "816200189        128.0   F    Vip-IRES-Cre/wt;Ai32(RCL-ChR2(H134R)_EYFP)/wt   \n",
       "819186360        128.0   F                                            wt/wt   \n",
       "819701982        135.0   F    Vip-IRES-Cre/wt;Ai32(RCL-ChR2(H134R)_EYFP)/wt   \n",
       "821695405        134.0   F                                            wt/wt   \n",
       "829720705        112.0   M  Pvalb-IRES-Cre/wt;Ai32(RCL-ChR2(H134R)_EYFP)/wt   \n",
       "831882777        137.0   M    Sst-IRES-Cre/wt;Ai32(RCL-ChR2(H134R)_EYFP)/wt   \n",
       "835479236        121.0   M    Vip-IRES-Cre/wt;Ai32(RCL-ChR2(H134R)_EYFP)/wt   \n",
       "839068429        129.0   F    Sst-IRES-Cre/wt;Ai32(RCL-ChR2(H134R)_EYFP)/wt   \n",
       "839557629        115.0   M  Pvalb-IRES-Cre/wt;Ai32(RCL-ChR2(H134R)_EYFP)/wt   \n",
       "840012044        116.0   M  Pvalb-IRES-Cre/wt;Ai32(RCL-ChR2(H134R)_EYFP)/wt   \n",
       "847657808        126.0   F                                            wt/wt   \n",
       "\n",
       "           unit_count  channel_count  probe_count  \\\n",
       "id                                                  \n",
       "715093703         884           2219            6   \n",
       "719161530         755           2214            6   \n",
       "721123822         444           2229            6   \n",
       "732592105         824           1847            5   \n",
       "737581020         568           2218            6   \n",
       "739448407         625           2221            6   \n",
       "742951821         893           2219            6   \n",
       "743475441         553           2225            6   \n",
       "744228101         659           2226            6   \n",
       "746083955         582           2216            6   \n",
       "750332458         902           2216            6   \n",
       "750749662         761           2223            6   \n",
       "751348571         859           2217            6   \n",
       "754312389         502           2220            6   \n",
       "754829445         832           1851            5   \n",
       "755434585         650           2220            6   \n",
       "756029989         684           2214            6   \n",
       "757216464         959           2225            6   \n",
       "757970808         773           1853            5   \n",
       "758798717         593           1486            4   \n",
       "759883607         483           1489            4   \n",
       "760345702         501           1862            5   \n",
       "760693773         826           2233            6   \n",
       "761418226         712           2230            6   \n",
       "762120172         717           1860            5   \n",
       "762602078         531           2233            6   \n",
       "763673393         629           2227            6   \n",
       "766640955         842           2233            6   \n",
       "767871931         713           2231            6   \n",
       "768515987         802           2217            6   \n",
       "771160300         930           2230            6   \n",
       "771990200         546           2229            6   \n",
       "773418906         546           2232            6   \n",
       "774875821         649           2233            6   \n",
       "778240327         784           2234            6   \n",
       "778998620         793           2229            6   \n",
       "779839471         863           2220            6   \n",
       "781842082         833           2232            6   \n",
       "786091066         700           2232            6   \n",
       "787025148         696           2231            6   \n",
       "789848216         415           2230            6   \n",
       "791319847         555           2229            6   \n",
       "793224716         781           2229            6   \n",
       "794812542        1005           2229            6   \n",
       "797828357         611           2232            6   \n",
       "798911424         825           2233            6   \n",
       "799864342         604           2233            6   \n",
       "816200189         634           1857            5   \n",
       "819186360         531           1696            5   \n",
       "819701982         585           1852            5   \n",
       "821695405         474           1856            5   \n",
       "829720705         529           1841            5   \n",
       "831882777         657           2227            6   \n",
       "835479236         582           1857            5   \n",
       "839068429         742           2298            6   \n",
       "839557629         450           1853            5   \n",
       "840012044         758           2298            6   \n",
       "847657808         874           2298            6   \n",
       "\n",
       "                                  ecephys_structure_acronyms  \n",
       "id                                                            \n",
       "715093703  [CA1, VISrl, nan, PO, LP, LGd, CA3, DG, VISl, ...  \n",
       "719161530  [TH, Eth, APN, POL, LP, DG, CA1, VISpm, nan, N...  \n",
       "721123822  [MB, SCig, PPT, NOT, DG, CA1, VISam, nan, LP, ...  \n",
       "732592105       [grey, VISpm, nan, VISp, VISl, VISal, VISrl]  \n",
       "737581020      [grey, VISmma, nan, VISpm, VISp, VISl, VISrl]  \n",
       "739448407         [grey, VISam, nan, VIS, VISp, VISl, VISrl]  \n",
       "742951821  [VISal, nan, grey, VISl, VISrl, VISp, VISpm, VIS]  \n",
       "743475441  [LP, LGd, HPF, DG, CA3, CA1, VISrl, nan, PP, P...  \n",
       "744228101  [Eth, TH, LP, POL, APN, DG, CA1, VIS, nan, CA3...  \n",
       "746083955  [VPM, TH, LGd, CA3, CA2, CA1, VISal, nan, grey...  \n",
       "750332458  [grey, VISrl, nan, VISal, IntG, IGL, LGd, CA3,...  \n",
       "750749662  [LP, DG, CA1, VISp, nan, LGd, CA3, VISrl, VPM,...  \n",
       "751348571  [grey, LGv, CA3, DG, CA1, VISl, nan, APN, POL,...  \n",
       "754312389  [APN, POL, LP, DG, CA1, VISam, nan, LGd, HPF, ...  \n",
       "754829445  [PoT, LP, LGd, CA3, DG, CA1, VISp, nan, VPM, C...  \n",
       "755434585  [grey, VISrl, nan, MGv, MGd, TH, LGd, CA3, DG,...  \n",
       "756029989  [TH, DG, CA3, CA1, VISl, nan, PO, Eth, LP, VIS...  \n",
       "757216464  [LP, DG, CA3, CA1, VISrl, nan, PO, LGd, HPF, V...  \n",
       "757970808  [grey, DG, CA3, CA1, VISli, nan, MGd, SGN, LP,...  \n",
       "758798717  [MGv, MGd, TH, DG, CA1, VISal, nan, SGN, LP, S...  \n",
       "759883607  [MB, SCig, PPT, NOT, SUB, ProS, CA1, VISam, na...  \n",
       "760345702  [MB, TH, PP, PIL, DG, CA3, CA1, VISal, nan, gr...  \n",
       "760693773      [grey, VISrl, nan, VISal, VISp, VISpm, VISam]  \n",
       "761418226  [grey, CA3, CA2, CA1, VISal, nan, LGd, HPF, DG...  \n",
       "762120172         [grey, VISal, nan, VISl, VISp, VIS, VISam]  \n",
       "762602078  [MB, APN, NOT, DG, CA1, VISam, nan, VISrl, LGv...  \n",
       "763673393  [CA3, CA2, CA1, VISl, nan, APN, MB, DG, VISam,...  \n",
       "766640955  [MB, APN, NOT, DG, CA1, VISam, nan, PF, TH, LP...  \n",
       "767871931  [MRN, APN, MB, DG, CA1, VISrl, nan, VISam, PO,...  \n",
       "768515987  [MB, APN, NOT, DG, CA1, VISam, nan, Eth, LP, P...  \n",
       "771160300  [SCig, PPT, NOT, SUB, ProS, CA1, VISam, nan, A...  \n",
       "771990200  [APN, MB, DG, CA1, VISam, nan, PO, LP, VISpm, ...  \n",
       "773418906  [PPT, NOT, SUB, ProS, CA1, VISam, nan, APN, DG...  \n",
       "774875821  [APN, LP, DG, CA1, VISrl, nan, MGv, MGd, CA3, ...  \n",
       "778240327  [APN, POL, LP, DG, CA1, VISrl, nan, ZI, IntG, ...  \n",
       "778998620  [APN, POL, LP, DG, CA3, CA1, VISrl, nan, ZI, M...  \n",
       "779839471  [APN, LP, MB, DG, CA1, VISrl, nan, TH, LGd, CA...  \n",
       "781842082  [APN, LP, DG, CA1, VISrl, nan, MGm, TH, MGv, L...  \n",
       "786091066  [APN, MB, DG, CA1, VISrl, nan, MGd, CA3, VISal...  \n",
       "787025148  [SCiw, SCig, PPT, NOT, DG, SUB, ProS, CA1, VIS...  \n",
       "789848216  [grey, CA3, CA2, CA1, VISal, nan, LP, LD, VISr...  \n",
       "791319847  [APN, DG, CA1, VISam, nan, LP, TH, VISpm, POL,...  \n",
       "793224716  [APN, NOT, MB, DG, CA1, VIS, nan, Eth, LP, SGN...  \n",
       "794812542  [MB, APN, DG, CA1, VISrl, nan, PIL, MGm, MGv, ...  \n",
       "797828357  [PPT, MB, APN, NOT, HPF, ProS, CA1, VISam, nan...  \n",
       "798911424  [APN, TH, Eth, LP, DG, HPF, CA3, CA1, VISrl, n...  \n",
       "799864342  [APN, POL, LP, DG, CA1, VISrl, nan, LGd, CA3, ...  \n",
       "816200189  [MRN, APN, MB, DG, CA1, VISam, nan, LP, VISpm,...  \n",
       "819186360  [SCiw, SCig, NOT, MB, SCop, HPF, SUB, VISam, n...  \n",
       "819701982  [MB, SCiw, SCig, PPT, NOT, SUB, ProS, CA1, VIS...  \n",
       "821695405  [LGv, TH, DG, CA3, CA1, ProS, VISl, nan, grey,...  \n",
       "829720705  [SCig, SCop, SCsg, SCzo, POST, VISp, nan, CA1,...  \n",
       "831882777  [grey, DG, CA1, VISrl, nan, VISal, VISl, MB, S...  \n",
       "835479236  [LP, DG, CA1, VISmmp, nan, SCiw, SCig, SCop, S...  \n",
       "839068429  [APN, LP, MB, DG, CA1, VISam, nan, VISpm, ProS...  \n",
       "839557629  [APN, NOT, MB, DG, CA1, VISam, nan, VISpm, LGd...  \n",
       "840012044  [APN, DG, CA1, VISam, nan, LP, VISpm, VISp, LG...  \n",
       "847657808  [APN, NOT, DG, HPF, ProS, CA1, VISam, nan, MB,...  "
      ]
     },
     "metadata": {},
     "output_type": "display_data"
    }
   ],
   "source": [
    "sessions_table = cache.get_session_table()\n",
    "\n",
    "display(sessions_table)\n",
    "sessions_table.to_csv('/your/path/Allen_Institute_Dataset/session_info.csv')\n"
   ]
  },
  {
   "cell_type": "markdown",
   "metadata": {},
   "source": [
    "### peristimulus time histograms"
   ]
  },
  {
   "cell_type": "markdown",
   "metadata": {},
   "source": [
    "We are going to pick a session arbitrarily and download its spike data."
   ]
  },
  {
   "cell_type": "code",
   "execution_count": 10,
   "metadata": {
    "scrolled": true
   },
   "outputs": [
    {
     "name": "stderr",
     "output_type": "stream",
     "text": [
      "WARNING:root:downloading a 2723.916MiB file from http://api.brain-map.org//api/v2/well_known_file_download/1026124469\n"
     ]
    },
    {
     "data": {
      "application/vnd.jupyter.widget-view+json": {
       "model_id": "741e3d439fbd477ca7d2bad85705d9fc",
       "version_major": 2,
       "version_minor": 0
      },
      "text/plain": [
       "HBox(children=(FloatProgress(value=0.0, description='Downloading', max=2856232912.0, style=ProgressStyle(descr…"
      ]
     },
     "metadata": {},
     "output_type": "display_data"
    },
    {
     "name": "stderr",
     "output_type": "stream",
     "text": [
      "WARNING:root:downloading a 2929.156MiB file from http://api.brain-map.org//api/v2/well_known_file_download/1026124034\n"
     ]
    },
    {
     "data": {
      "application/vnd.jupyter.widget-view+json": {
       "model_id": "a3228e35d78d4d1eb94d7a17296882e5",
       "version_major": 2,
       "version_minor": 0
      },
      "text/plain": [
       "HBox(children=(FloatProgress(value=0.0, description='Downloading', max=3071442940.0, style=ProgressStyle(descr…"
      ]
     },
     "metadata": {},
     "output_type": "display_data"
    },
    {
     "name": "stderr",
     "output_type": "stream",
     "text": [
      "WARNING:root:downloading a 1656.071MiB file from http://api.brain-map.org//api/v2/well_known_file_download/1026123696\n"
     ]
    },
    {
     "data": {
      "application/vnd.jupyter.widget-view+json": {
       "model_id": "2e46d6da5a944935b3e6a4fa2fc35dec",
       "version_major": 2,
       "version_minor": 0
      },
      "text/plain": [
       "HBox(children=(FloatProgress(value=0.0, description='Downloading', max=1736516600.0, style=ProgressStyle(descr…"
      ]
     },
     "metadata": {},
     "output_type": "display_data"
    },
    {
     "name": "stderr",
     "output_type": "stream",
     "text": [
      "WARNING:root:downloading a 2777.584MiB file from http://api.brain-map.org//api/v2/well_known_file_download/1026123599\n"
     ]
    },
    {
     "data": {
      "application/vnd.jupyter.widget-view+json": {
       "model_id": "a1106f4b800640919a26aa22e7090889",
       "version_major": 2,
       "version_minor": 0
      },
      "text/plain": [
       "HBox(children=(FloatProgress(value=0.0, description='Downloading', max=2912508032.0, style=ProgressStyle(descr…"
      ]
     },
     "metadata": {},
     "output_type": "display_data"
    },
    {
     "name": "stderr",
     "output_type": "stream",
     "text": [
      "WARNING:root:downloading a 2080.956MiB file from http://api.brain-map.org//api/v2/well_known_file_download/1026123989\n"
     ]
    },
    {
     "data": {
      "application/vnd.jupyter.widget-view+json": {
       "model_id": "533edb6b38124edab24b041e72d7b8f7",
       "version_major": 2,
       "version_minor": 0
      },
      "text/plain": [
       "HBox(children=(FloatProgress(value=0.0, description='Downloading', max=2182040332.0, style=ProgressStyle(descr…"
      ]
     },
     "metadata": {},
     "output_type": "display_data"
    },
    {
     "name": "stderr",
     "output_type": "stream",
     "text": [
      "WARNING:root:downloading a 2056.762MiB file from http://api.brain-map.org//api/v2/well_known_file_download/1026123897\n"
     ]
    },
    {
     "data": {
      "application/vnd.jupyter.widget-view+json": {
       "model_id": "63e31d89db5346f88a648ba945016e99",
       "version_major": 2,
       "version_minor": 0
      },
      "text/plain": [
       "HBox(children=(FloatProgress(value=0.0, description='Downloading', max=2156671312.0, style=ProgressStyle(descr…"
      ]
     },
     "metadata": {},
     "output_type": "display_data"
    },
    {
     "name": "stderr",
     "output_type": "stream",
     "text": [
      "WARNING:root:downloading a 2782.523MiB file from http://api.brain-map.org//api/v2/well_known_file_download/1026123964\n"
     ]
    },
    {
     "data": {
      "application/vnd.jupyter.widget-view+json": {
       "model_id": "6a84714584114223a77618dc6e2d04cf",
       "version_major": 2,
       "version_minor": 0
      },
      "text/plain": [
       "HBox(children=(FloatProgress(value=0.0, description='Downloading', max=2917686364.0, style=ProgressStyle(descr…"
      ]
     },
     "metadata": {},
     "output_type": "display_data"
    },
    {
     "name": "stderr",
     "output_type": "stream",
     "text": [
      "WARNING:root:downloading a 2022.334MiB file from http://api.brain-map.org//api/v2/well_known_file_download/1026124068\n"
     ]
    },
    {
     "data": {
      "application/vnd.jupyter.widget-view+json": {
       "model_id": "118478d3570c43adb630f012636c2163",
       "version_major": 2,
       "version_minor": 0
      },
      "text/plain": [
       "HBox(children=(FloatProgress(value=0.0, description='Downloading', max=2120570640.0, style=ProgressStyle(descr…"
      ]
     },
     "metadata": {},
     "output_type": "display_data"
    },
    {
     "name": "stderr",
     "output_type": "stream",
     "text": [
      "WARNING:root:downloading a 2523.675MiB file from http://api.brain-map.org//api/v2/well_known_file_download/1026124429\n"
     ]
    },
    {
     "data": {
      "application/vnd.jupyter.widget-view+json": {
       "model_id": "3eadba15fe95432880739e305b46d1c9",
       "version_major": 2,
       "version_minor": 0
      },
      "text/plain": [
       "HBox(children=(FloatProgress(value=0.0, description='Downloading', max=2646264724.0, style=ProgressStyle(descr…"
      ]
     },
     "metadata": {},
     "output_type": "display_data"
    },
    {
     "name": "stderr",
     "output_type": "stream",
     "text": [
      "WARNING:root:downloading a 2443.380MiB file from http://api.brain-map.org//api/v2/well_known_file_download/1026124262\n"
     ]
    },
    {
     "data": {
      "application/vnd.jupyter.widget-view+json": {
       "model_id": "79a05996d4ad46b6b57b7607cd5dc576",
       "version_major": 2,
       "version_minor": 0
      },
      "text/plain": [
       "HBox(children=(FloatProgress(value=0.0, description='Downloading', max=2562070092.0, style=ProgressStyle(descr…"
      ]
     },
     "metadata": {},
     "output_type": "display_data"
    },
    {
     "name": "stderr",
     "output_type": "stream",
     "text": [
      "WARNING:root:downloading a 3090.225MiB file from http://api.brain-map.org//api/v2/well_known_file_download/1026124724\n"
     ]
    },
    {
     "data": {
      "application/vnd.jupyter.widget-view+json": {
       "model_id": "d2cdfd208e6041ce843873602641bd58",
       "version_major": 2,
       "version_minor": 0
      },
      "text/plain": [
       "HBox(children=(FloatProgress(value=0.0, description='Downloading', max=3240335928.0, style=ProgressStyle(descr…"
      ]
     },
     "metadata": {},
     "output_type": "display_data"
    },
    {
     "name": "stderr",
     "output_type": "stream",
     "text": [
      "WARNING:root:downloading a 2687.881MiB file from http://api.brain-map.org//api/v2/well_known_file_download/1026124242\n"
     ]
    },
    {
     "data": {
      "application/vnd.jupyter.widget-view+json": {
       "model_id": "d7ab89a84d2f43aa9ce2c2e3cef523fb",
       "version_major": 2,
       "version_minor": 0
      },
      "text/plain": [
       "HBox(children=(FloatProgress(value=0.0, description='Downloading', max=2818447324.0, style=ProgressStyle(descr…"
      ]
     },
     "metadata": {},
     "output_type": "display_data"
    },
    {
     "name": "stderr",
     "output_type": "stream",
     "text": [
      "WARNING:root:downloading a 2930.954MiB file from http://api.brain-map.org//api/v2/well_known_file_download/1026124863\n"
     ]
    },
    {
     "data": {
      "application/vnd.jupyter.widget-view+json": {
       "model_id": "a0af0e4ca1854b998c7d844db2f983d4",
       "version_major": 2,
       "version_minor": 0
      },
      "text/plain": [
       "HBox(children=(FloatProgress(value=0.0, description='Downloading', max=3073327756.0, style=ProgressStyle(descr…"
      ]
     },
     "metadata": {},
     "output_type": "display_data"
    },
    {
     "name": "stderr",
     "output_type": "stream",
     "text": [
      "WARNING:root:downloading a 1773.400MiB file from http://api.brain-map.org//api/v2/well_known_file_download/1026123537\n"
     ]
    },
    {
     "data": {
      "application/vnd.jupyter.widget-view+json": {
       "model_id": "5274a9ca9a0d48f5a88d995716d1276f",
       "version_major": 2,
       "version_minor": 0
      },
      "text/plain": [
       "HBox(children=(FloatProgress(value=0.0, description='Downloading', max=1859545192.0, style=ProgressStyle(descr…"
      ]
     },
     "metadata": {},
     "output_type": "display_data"
    },
    {
     "name": "stderr",
     "output_type": "stream",
     "text": [
      "WARNING:root:downloading a 2571.776MiB file from http://api.brain-map.org//api/v2/well_known_file_download/1026124326\n"
     ]
    },
    {
     "data": {
      "application/vnd.jupyter.widget-view+json": {
       "model_id": "e734af8b4a1841d991440257abe17f6e",
       "version_major": 2,
       "version_minor": 0
      },
      "text/plain": [
       "HBox(children=(FloatProgress(value=0.0, description='Downloading', max=2696702864.0, style=ProgressStyle(descr…"
      ]
     },
     "metadata": {},
     "output_type": "display_data"
    },
    {
     "name": "stderr",
     "output_type": "stream",
     "text": [
      "WARNING:root:downloading a 2132.111MiB file from http://api.brain-map.org//api/v2/well_known_file_download/1026124684\n"
     ]
    },
    {
     "data": {
      "application/vnd.jupyter.widget-view+json": {
       "model_id": "3f3f2e45193a40b0a063cf964176c598",
       "version_major": 2,
       "version_minor": 0
      },
      "text/plain": [
       "HBox(children=(FloatProgress(value=0.0, description='Downloading', max=2235680540.0, style=ProgressStyle(descr…"
      ]
     },
     "metadata": {},
     "output_type": "display_data"
    },
    {
     "name": "stderr",
     "output_type": "stream",
     "text": [
      "WARNING:root:downloading a 2461.626MiB file from http://api.brain-map.org//api/v2/well_known_file_download/1026124216\n"
     ]
    },
    {
     "data": {
      "application/vnd.jupyter.widget-view+json": {
       "model_id": "c471490d70a241d09698acc2edae038d",
       "version_major": 2,
       "version_minor": 0
      },
      "text/plain": [
       "HBox(children=(FloatProgress(value=0.0, description='Downloading', max=2581201976.0, style=ProgressStyle(descr…"
      ]
     },
     "metadata": {},
     "output_type": "display_data"
    },
    {
     "name": "stderr",
     "output_type": "stream",
     "text": [
      "WARNING:root:downloading a 2898.930MiB file from http://api.brain-map.org//api/v2/well_known_file_download/1026124603\n"
     ]
    },
    {
     "data": {
      "application/vnd.jupyter.widget-view+json": {
       "model_id": "581a7bc1fe82439db238a7cc6f7fbf7e",
       "version_major": 2,
       "version_minor": 0
      },
      "text/plain": [
       "HBox(children=(FloatProgress(value=0.0, description='Downloading', max=3039748856.0, style=ProgressStyle(descr…"
      ]
     },
     "metadata": {},
     "output_type": "display_data"
    },
    {
     "name": "stderr",
     "output_type": "stream",
     "text": [
      "WARNING:root:downloading a 2266.221MiB file from http://api.brain-map.org//api/v2/well_known_file_download/1026123685\n"
     ]
    },
    {
     "data": {
      "application/vnd.jupyter.widget-view+json": {
       "model_id": "33faaac50bc749efba750df4bdebd4da",
       "version_major": 2,
       "version_minor": 0
      },
      "text/plain": [
       "HBox(children=(FloatProgress(value=0.0, description='Downloading', max=2376304984.0, style=ProgressStyle(descr…"
      ]
     },
     "metadata": {},
     "output_type": "display_data"
    },
    {
     "name": "stderr",
     "output_type": "stream",
     "text": [
      "WARNING:root:downloading a 2096.734MiB file from http://api.brain-map.org//api/v2/well_known_file_download/1026123877\n"
     ]
    },
    {
     "data": {
      "application/vnd.jupyter.widget-view+json": {
       "model_id": "0cd6006c25a04161974e9baa78cb97c1",
       "version_major": 2,
       "version_minor": 0
      },
      "text/plain": [
       "HBox(children=(FloatProgress(value=0.0, description='Downloading', max=2198584804.0, style=ProgressStyle(descr…"
      ]
     },
     "metadata": {},
     "output_type": "display_data"
    },
    {
     "name": "stderr",
     "output_type": "stream",
     "text": [
      "WARNING:root:downloading a 1775.991MiB file from http://api.brain-map.org//api/v2/well_known_file_download/1026123377\n"
     ]
    },
    {
     "data": {
      "application/vnd.jupyter.widget-view+json": {
       "model_id": "92d5a2c5adcb4a4bb2bfe254116f0438",
       "version_major": 2,
       "version_minor": 0
      },
      "text/plain": [
       "HBox(children=(FloatProgress(value=0.0, description='Downloading', max=1862261144.0, style=ProgressStyle(descr…"
      ]
     },
     "metadata": {},
     "output_type": "display_data"
    },
    {
     "name": "stderr",
     "output_type": "stream",
     "text": [
      "WARNING:root:downloading a 1870.139MiB file from http://api.brain-map.org//api/v2/well_known_file_download/1026123651\n"
     ]
    },
    {
     "data": {
      "application/vnd.jupyter.widget-view+json": {
       "model_id": "9b9daba37d2b4b03984a70b2b65db81f",
       "version_major": 2,
       "version_minor": 0
      },
      "text/plain": [
       "HBox(children=(FloatProgress(value=0.0, description='Downloading', max=1960982972.0, style=ProgressStyle(descr…"
      ]
     },
     "metadata": {},
     "output_type": "display_data"
    },
    {
     "name": "stderr",
     "output_type": "stream",
     "text": [
      "WARNING:root:downloading a 2731.392MiB file from http://api.brain-map.org//api/v2/well_known_file_download/1026124702\n"
     ]
    },
    {
     "data": {
      "application/vnd.jupyter.widget-view+json": {
       "model_id": "92975fb749d74762a0b63ddd0ea87fad",
       "version_major": 2,
       "version_minor": 0
      },
      "text/plain": [
       "HBox(children=(FloatProgress(value=0.0, description='Downloading', max=2864072620.0, style=ProgressStyle(descr…"
      ]
     },
     "metadata": {},
     "output_type": "display_data"
    },
    {
     "name": "stderr",
     "output_type": "stream",
     "text": [
      "WARNING:root:downloading a 2550.880MiB file from http://api.brain-map.org//api/v2/well_known_file_download/1026124793\n"
     ]
    },
    {
     "data": {
      "application/vnd.jupyter.widget-view+json": {
       "model_id": "7ed6775183dc46c78ee548af1ac851cc",
       "version_major": 2,
       "version_minor": 0
      },
      "text/plain": [
       "HBox(children=(FloatProgress(value=0.0, description='Downloading', max=2674791348.0, style=ProgressStyle(descr…"
      ]
     },
     "metadata": {},
     "output_type": "display_data"
    },
    {
     "name": "stderr",
     "output_type": "stream",
     "text": [
      "WARNING:root:downloading a 2732.720MiB file from http://api.brain-map.org//api/v2/well_known_file_download/1026124884\n"
     ]
    },
    {
     "data": {
      "application/vnd.jupyter.widget-view+json": {
       "model_id": "b08658f2d58149719e27461d4bbab45f",
       "version_major": 2,
       "version_minor": 0
      },
      "text/plain": [
       "HBox(children=(FloatProgress(value=0.0, description='Downloading', max=2865464220.0, style=ProgressStyle(descr…"
      ]
     },
     "metadata": {},
     "output_type": "display_data"
    },
    {
     "name": "stderr",
     "output_type": "stream",
     "text": [
      "WARNING:root:downloading a 1927.908MiB file from http://api.brain-map.org//api/v2/well_known_file_download/1026124569\n"
     ]
    },
    {
     "data": {
      "application/vnd.jupyter.widget-view+json": {
       "model_id": "295456f84813465482d112785b161a49",
       "version_major": 2,
       "version_minor": 0
      },
      "text/plain": [
       "HBox(children=(FloatProgress(value=0.0, description='Downloading', max=2021557700.0, style=ProgressStyle(descr…"
      ]
     },
     "metadata": {},
     "output_type": "display_data"
    },
    {
     "name": "stderr",
     "output_type": "stream",
     "text": [
      "WARNING:root:downloading a 2420.087MiB file from http://api.brain-map.org//api/v2/well_known_file_download/1026124500\n"
     ]
    },
    {
     "data": {
      "application/vnd.jupyter.widget-view+json": {
       "model_id": "e856c4706b86401dbf6166264686dc31",
       "version_major": 2,
       "version_minor": 0
      },
      "text/plain": [
       "HBox(children=(FloatProgress(value=0.0, description='Downloading', max=2537645144.0, style=ProgressStyle(descr…"
      ]
     },
     "metadata": {},
     "output_type": "display_data"
    },
    {
     "name": "stderr",
     "output_type": "stream",
     "text": [
      "WARNING:root:downloading a 2747.548MiB file from http://api.brain-map.org//api/v2/well_known_file_download/1026124293\n"
     ]
    },
    {
     "data": {
      "application/vnd.jupyter.widget-view+json": {
       "model_id": "550f9251252a44a29e3fbf292a1835dd",
       "version_major": 2,
       "version_minor": 0
      },
      "text/plain": [
       "HBox(children=(FloatProgress(value=0.0, description='Downloading', max=2881013020.0, style=ProgressStyle(descr…"
      ]
     },
     "metadata": {},
     "output_type": "display_data"
    },
    {
     "name": "stderr",
     "output_type": "stream",
     "text": [
      "WARNING:root:downloading a 2521.751MiB file from http://api.brain-map.org//api/v2/well_known_file_download/1026124194\n"
     ]
    },
    {
     "data": {
      "application/vnd.jupyter.widget-view+json": {
       "model_id": "f453c1eaf5d24206b92234e31da04d18",
       "version_major": 2,
       "version_minor": 0
      },
      "text/plain": [
       "HBox(children=(FloatProgress(value=0.0, description='Downloading', max=2644247736.0, style=ProgressStyle(descr…"
      ]
     },
     "metadata": {},
     "output_type": "display_data"
    },
    {
     "name": "stderr",
     "output_type": "stream",
     "text": [
      "WARNING:root:downloading a 2720.307MiB file from http://api.brain-map.org//api/v2/well_known_file_download/1026124517\n"
     ]
    },
    {
     "data": {
      "application/vnd.jupyter.widget-view+json": {
       "model_id": "3eb1bb740dc641e0acc3768cf4c3bd78",
       "version_major": 2,
       "version_minor": 0
      },
      "text/plain": [
       "HBox(children=(FloatProgress(value=0.0, description='Downloading', max=2852449060.0, style=ProgressStyle(descr…"
      ]
     },
     "metadata": {},
     "output_type": "display_data"
    },
    {
     "name": "stderr",
     "output_type": "stream",
     "text": [
      "WARNING:root:downloading a 2655.067MiB file from http://api.brain-map.org//api/v2/well_known_file_download/1026124918\n"
     ]
    },
    {
     "data": {
      "application/vnd.jupyter.widget-view+json": {
       "model_id": "464995d2f4dc4016b8a3c39fa3d0abfa",
       "version_major": 2,
       "version_minor": 0
      },
      "text/plain": [
       "HBox(children=(FloatProgress(value=0.0, description='Downloading', max=2784039716.0, style=ProgressStyle(descr…"
      ]
     },
     "metadata": {},
     "output_type": "display_data"
    },
    {
     "name": "stderr",
     "output_type": "stream",
     "text": [
      "WARNING:root:downloading a 2342.534MiB file from http://api.brain-map.org//api/v2/well_known_file_download/1026124152\n"
     ]
    },
    {
     "data": {
      "application/vnd.jupyter.widget-view+json": {
       "model_id": "24d5657dc35b47caa845c858cef800a7",
       "version_major": 2,
       "version_minor": 0
      },
      "text/plain": [
       "HBox(children=(FloatProgress(value=0.0, description='Downloading', max=2456324796.0, style=ProgressStyle(descr…"
      ]
     },
     "metadata": {},
     "output_type": "display_data"
    },
    {
     "name": "stderr",
     "output_type": "stream",
     "text": [
      "WARNING:root:downloading a 1839.399MiB file from http://api.brain-map.org//api/v2/well_known_file_download/1026124109\n"
     ]
    },
    {
     "data": {
      "application/vnd.jupyter.widget-view+json": {
       "model_id": "d0f53f9898324b199ef0a045f64d0eb9",
       "version_major": 2,
       "version_minor": 0
      },
      "text/plain": [
       "HBox(children=(FloatProgress(value=0.0, description='Downloading', max=1928749868.0, style=ProgressStyle(descr…"
      ]
     },
     "metadata": {},
     "output_type": "display_data"
    },
    {
     "name": "stderr",
     "output_type": "stream",
     "text": [
      "WARNING:root:downloading a 2147.375MiB file from http://api.brain-map.org//api/v2/well_known_file_download/1026124348\n"
     ]
    },
    {
     "data": {
      "application/vnd.jupyter.widget-view+json": {
       "model_id": "48f2aadfcff945ab8a7fe3d068ff6be4",
       "version_major": 2,
       "version_minor": 0
      },
      "text/plain": [
       "HBox(children=(FloatProgress(value=0.0, description='Downloading', max=2251686372.0, style=ProgressStyle(descr…"
      ]
     },
     "metadata": {},
     "output_type": "display_data"
    },
    {
     "name": "stderr",
     "output_type": "stream",
     "text": [
      "WARNING:root:downloading a 2707.833MiB file from http://api.brain-map.org//api/v2/well_known_file_download/1026124625\n"
     ]
    },
    {
     "data": {
      "application/vnd.jupyter.widget-view+json": {
       "model_id": "84ea6096db0b4254ac3aa2e0d5a2cbdf",
       "version_major": 2,
       "version_minor": 0
      },
      "text/plain": [
       "HBox(children=(FloatProgress(value=0.0, description='Downloading', max=2839369128.0, style=ProgressStyle(descr…"
      ]
     },
     "metadata": {},
     "output_type": "display_data"
    },
    {
     "name": "stderr",
     "output_type": "stream",
     "text": [
      "WARNING:root:downloading a 2851.138MiB file from http://api.brain-map.org//api/v2/well_known_file_download/1026124179\n"
     ]
    },
    {
     "data": {
      "application/vnd.jupyter.widget-view+json": {
       "model_id": "814e593ff4ad41c09dac5ddc82db90c6",
       "version_major": 2,
       "version_minor": 0
      },
      "text/plain": [
       "HBox(children=(FloatProgress(value=0.0, description='Downloading', max=2989635376.0, style=ProgressStyle(descr…"
      ]
     },
     "metadata": {},
     "output_type": "display_data"
    },
    {
     "name": "stderr",
     "output_type": "stream",
     "text": [
      "WARNING:root:downloading a 2590.522MiB file from http://api.brain-map.org//api/v2/well_known_file_download/1026124007\n"
     ]
    },
    {
     "data": {
      "application/vnd.jupyter.widget-view+json": {
       "model_id": "9c0f911477c24fb5889421cf9324f385",
       "version_major": 2,
       "version_minor": 0
      },
      "text/plain": [
       "HBox(children=(FloatProgress(value=0.0, description='Downloading', max=2716359056.0, style=ProgressStyle(descr…"
      ]
     },
     "metadata": {},
     "output_type": "display_data"
    },
    {
     "name": "stderr",
     "output_type": "stream",
     "text": [
      "WARNING:root:downloading a 2414.742MiB file from http://api.brain-map.org//api/v2/well_known_file_download/1026124309\n"
     ]
    },
    {
     "data": {
      "application/vnd.jupyter.widget-view+json": {
       "model_id": "efea1d6bca6040219f25d6a7e799fac0",
       "version_major": 2,
       "version_minor": 0
      },
      "text/plain": [
       "HBox(children=(FloatProgress(value=0.0, description='Downloading', max=2532040156.0, style=ProgressStyle(descr…"
      ]
     },
     "metadata": {},
     "output_type": "display_data"
    },
    {
     "name": "stderr",
     "output_type": "stream",
     "text": [
      "WARNING:root:downloading a 2189.058MiB file from http://api.brain-map.org//api/v2/well_known_file_download/1026123803\n"
     ]
    },
    {
     "data": {
      "application/vnd.jupyter.widget-view+json": {
       "model_id": "2e87c158aef44450a38bda4db947acf8",
       "version_major": 2,
       "version_minor": 0
      },
      "text/plain": [
       "HBox(children=(FloatProgress(value=0.0, description='Downloading', max=2295393668.0, style=ProgressStyle(descr…"
      ]
     },
     "metadata": {},
     "output_type": "display_data"
    },
    {
     "name": "stderr",
     "output_type": "stream",
     "text": [
      "WARNING:root:downloading a 2506.115MiB file from http://api.brain-map.org//api/v2/well_known_file_download/1026124405\n"
     ]
    },
    {
     "data": {
      "application/vnd.jupyter.widget-view+json": {
       "model_id": "b761301417f84c33ac498832620f5c90",
       "version_major": 2,
       "version_minor": 0
      },
      "text/plain": [
       "HBox(children=(FloatProgress(value=0.0, description='Downloading', max=2627851536.0, style=ProgressStyle(descr…"
      ]
     },
     "metadata": {},
     "output_type": "display_data"
    },
    {
     "name": "stderr",
     "output_type": "stream",
     "text": [
      "WARNING:root:downloading a 1789.008MiB file from http://api.brain-map.org//api/v2/well_known_file_download/1026123847\n"
     ]
    },
    {
     "data": {
      "application/vnd.jupyter.widget-view+json": {
       "model_id": "2ffc48e39cce4962b9d09028c686d297",
       "version_major": 2,
       "version_minor": 0
      },
      "text/plain": [
       "HBox(children=(FloatProgress(value=0.0, description='Downloading', max=1875910964.0, style=ProgressStyle(descr…"
      ]
     },
     "metadata": {},
     "output_type": "display_data"
    },
    {
     "name": "stderr",
     "output_type": "stream",
     "text": [
      "WARNING:root:downloading a 2210.106MiB file from http://api.brain-map.org//api/v2/well_known_file_download/1026124645\n"
     ]
    },
    {
     "data": {
      "application/vnd.jupyter.widget-view+json": {
       "model_id": "86a6c6d06cbd428c81706859bfd3f0ee",
       "version_major": 2,
       "version_minor": 0
      },
      "text/plain": [
       "HBox(children=(FloatProgress(value=0.0, description='Downloading', max=2317463664.0, style=ProgressStyle(descr…"
      ]
     },
     "metadata": {},
     "output_type": "display_data"
    },
    {
     "name": "stderr",
     "output_type": "stream",
     "text": [
      "WARNING:root:downloading a 2563.556MiB file from http://api.brain-map.org//api/v2/well_known_file_download/1026124545\n"
     ]
    },
    {
     "data": {
      "application/vnd.jupyter.widget-view+json": {
       "model_id": "bca227224bd54719be7f044ba8e8e0e0",
       "version_major": 2,
       "version_minor": 0
      },
      "text/plain": [
       "HBox(children=(FloatProgress(value=0.0, description='Downloading', max=2688083040.0, style=ProgressStyle(descr…"
      ]
     },
     "metadata": {},
     "output_type": "display_data"
    },
    {
     "name": "stderr",
     "output_type": "stream",
     "text": [
      "WARNING:root:downloading a 2469.206MiB file from http://api.brain-map.org//api/v2/well_known_file_download/1026124759\n"
     ]
    },
    {
     "data": {
      "application/vnd.jupyter.widget-view+json": {
       "model_id": "fd4abc71977f442d8b108add018bfe13",
       "version_major": 2,
       "version_minor": 0
      },
      "text/plain": [
       "HBox(children=(FloatProgress(value=0.0, description='Downloading', max=2589149988.0, style=ProgressStyle(descr…"
      ]
     },
     "metadata": {},
     "output_type": "display_data"
    },
    {
     "name": "stderr",
     "output_type": "stream",
     "text": [
      "WARNING:root:downloading a 2427.749MiB file from http://api.brain-map.org//api/v2/well_known_file_download/1026124804\n"
     ]
    },
    {
     "data": {
      "application/vnd.jupyter.widget-view+json": {
       "model_id": "73dea535eb284a3ead699352dbdd491b",
       "version_major": 2,
       "version_minor": 0
      },
      "text/plain": [
       "HBox(children=(FloatProgress(value=0.0, description='Downloading', max=2545679280.0, style=ProgressStyle(descr…"
      ]
     },
     "metadata": {},
     "output_type": "display_data"
    },
    {
     "name": "stderr",
     "output_type": "stream",
     "text": [
      "WARNING:root:downloading a 2611.142MiB file from http://api.brain-map.org//api/v2/well_known_file_download/1026125021\n"
     ]
    },
    {
     "data": {
      "application/vnd.jupyter.widget-view+json": {
       "model_id": "10a3eb4c79bd4670aaca8cd2177ddb38",
       "version_major": 2,
       "version_minor": 0
      },
      "text/plain": [
       "HBox(children=(FloatProgress(value=0.0, description='Downloading', max=2737981244.0, style=ProgressStyle(descr…"
      ]
     },
     "metadata": {},
     "output_type": "display_data"
    },
    {
     "name": "stderr",
     "output_type": "stream",
     "text": [
      "WARNING:root:downloading a 2332.979MiB file from http://api.brain-map.org//api/v2/well_known_file_download/1026124840\n"
     ]
    },
    {
     "data": {
      "application/vnd.jupyter.widget-view+json": {
       "model_id": "17772fa37cbe4065af6f76a61fd381c1",
       "version_major": 2,
       "version_minor": 0
      },
      "text/plain": [
       "HBox(children=(FloatProgress(value=0.0, description='Downloading', max=2446305768.0, style=ProgressStyle(descr…"
      ]
     },
     "metadata": {},
     "output_type": "display_data"
    },
    {
     "name": "stderr",
     "output_type": "stream",
     "text": [
      "WARNING:root:downloading a 2241.979MiB file from http://api.brain-map.org//api/v2/well_known_file_download/1026124085\n"
     ]
    },
    {
     "data": {
      "application/vnd.jupyter.widget-view+json": {
       "model_id": "4c3d28889abc4097a461e2268b713949",
       "version_major": 2,
       "version_minor": 0
      },
      "text/plain": [
       "HBox(children=(FloatProgress(value=0.0, description='Downloading', max=2350885544.0, style=ProgressStyle(descr…"
      ]
     },
     "metadata": {},
     "output_type": "display_data"
    },
    {
     "name": "stderr",
     "output_type": "stream",
     "text": [
      "WARNING:root:downloading a 2405.091MiB file from http://api.brain-map.org//api/v2/well_known_file_download/1026124368\n"
     ]
    },
    {
     "data": {
      "application/vnd.jupyter.widget-view+json": {
       "model_id": "8ae140082a8c4010a3120ce5d886728e",
       "version_major": 2,
       "version_minor": 0
      },
      "text/plain": [
       "HBox(children=(FloatProgress(value=0.0, description='Downloading', max=2521920356.0, style=ProgressStyle(descr…"
      ]
     },
     "metadata": {},
     "output_type": "display_data"
    },
    {
     "name": "stderr",
     "output_type": "stream",
     "text": [
      "WARNING:root:downloading a 1912.822MiB file from http://api.brain-map.org//api/v2/well_known_file_download/1026123824\n"
     ]
    },
    {
     "data": {
      "application/vnd.jupyter.widget-view+json": {
       "model_id": "8f01d2d2380a4b78912c6db494dc4e74",
       "version_major": 2,
       "version_minor": 0
      },
      "text/plain": [
       "HBox(children=(FloatProgress(value=0.0, description='Downloading', max=2005739248.0, style=ProgressStyle(descr…"
      ]
     },
     "metadata": {},
     "output_type": "display_data"
    },
    {
     "name": "stderr",
     "output_type": "stream",
     "text": [
      "WARNING:root:downloading a 1601.838MiB file from http://api.brain-map.org//api/v2/well_known_file_download/1026123625\n"
     ]
    },
    {
     "data": {
      "application/vnd.jupyter.widget-view+json": {
       "model_id": "e7bf81c420c3453db032152f1ae35af5",
       "version_major": 2,
       "version_minor": 0
      },
      "text/plain": [
       "HBox(children=(FloatProgress(value=0.0, description='Downloading', max=1679648916.0, style=ProgressStyle(descr…"
      ]
     },
     "metadata": {},
     "output_type": "display_data"
    },
    {
     "name": "stderr",
     "output_type": "stream",
     "text": [
      "WARNING:root:downloading a 1988.647MiB file from http://api.brain-map.org//api/v2/well_known_file_download/1026123787\n"
     ]
    },
    {
     "data": {
      "application/vnd.jupyter.widget-view+json": {
       "model_id": "063c0f7bc1c64ee887750bdac031aa21",
       "version_major": 2,
       "version_minor": 0
      },
      "text/plain": [
       "HBox(children=(FloatProgress(value=0.0, description='Downloading', max=2085248036.0, style=ProgressStyle(descr…"
      ]
     },
     "metadata": {},
     "output_type": "display_data"
    },
    {
     "name": "stderr",
     "output_type": "stream",
     "text": [
      "WARNING:root:downloading a 1912.961MiB file from http://api.brain-map.org//api/v2/well_known_file_download/1026123519\n"
     ]
    },
    {
     "data": {
      "application/vnd.jupyter.widget-view+json": {
       "model_id": "f27db60930b345a39b4caff8b47f8cc4",
       "version_major": 2,
       "version_minor": 0
      },
      "text/plain": [
       "HBox(children=(FloatProgress(value=0.0, description='Downloading', max=2005885500.0, style=ProgressStyle(descr…"
      ]
     },
     "metadata": {},
     "output_type": "display_data"
    },
    {
     "name": "stderr",
     "output_type": "stream",
     "text": [
      "WARNING:root:downloading a 2692.640MiB file from http://api.brain-map.org//api/v2/well_known_file_download/1026123725\n"
     ]
    },
    {
     "data": {
      "application/vnd.jupyter.widget-view+json": {
       "model_id": "3986ac501aa145f7905258ffb06fada8",
       "version_major": 2,
       "version_minor": 0
      },
      "text/plain": [
       "HBox(children=(FloatProgress(value=0.0, description='Downloading', max=2823437388.0, style=ProgressStyle(descr…"
      ]
     },
     "metadata": {},
     "output_type": "display_data"
    },
    {
     "name": "stderr",
     "output_type": "stream",
     "text": [
      "WARNING:root:downloading a 1804.756MiB file from http://api.brain-map.org//api/v2/well_known_file_download/1026122596\n"
     ]
    },
    {
     "data": {
      "application/vnd.jupyter.widget-view+json": {
       "model_id": "496bd436772e4aab9c4d1959be361017",
       "version_major": 2,
       "version_minor": 0
      },
      "text/plain": [
       "HBox(children=(FloatProgress(value=0.0, description='Downloading', max=1892423924.0, style=ProgressStyle(descr…"
      ]
     },
     "metadata": {},
     "output_type": "display_data"
    },
    {
     "name": "stderr",
     "output_type": "stream",
     "text": [
      "WARNING:root:downloading a 2722.658MiB file from http://api.brain-map.org//api/v2/well_known_file_download/1026124422\n"
     ]
    },
    {
     "data": {
      "application/vnd.jupyter.widget-view+json": {
       "model_id": "133f06dfde6245088f0c2e7717aa765e",
       "version_major": 2,
       "version_minor": 0
      },
      "text/plain": [
       "HBox(children=(FloatProgress(value=0.0, description='Downloading', max=2854914016.0, style=ProgressStyle(descr…"
      ]
     },
     "metadata": {},
     "output_type": "display_data"
    },
    {
     "name": "stderr",
     "output_type": "stream",
     "text": [
      "WARNING:root:downloading a 2682.873MiB file from http://api.brain-map.org//api/v2/well_known_file_download/1026123943\n"
     ]
    },
    {
     "data": {
      "application/vnd.jupyter.widget-view+json": {
       "model_id": "982b551d0a5444b98e5910474708a72f",
       "version_major": 2,
       "version_minor": 0
      },
      "text/plain": [
       "HBox(children=(FloatProgress(value=0.0, description='Downloading', max=2813195792.0, style=ProgressStyle(descr…"
      ]
     },
     "metadata": {},
     "output_type": "display_data"
    }
   ],
   "source": [
    "for session_id in sessions_table.index.values:\n",
    "    session = cache.get_session_data(session_id)"
   ]
  },
  {
   "cell_type": "markdown",
   "metadata": {},
   "source": [
    "We can get a high-level summary of this session by acessing its `metadata` attribute:"
   ]
  },
  {
   "cell_type": "code",
   "execution_count": 13,
   "metadata": {},
   "outputs": [],
   "source": [
    "session_id = 798911424\n",
    "session = cache.get_session_data(session_id)"
   ]
  },
  {
   "cell_type": "code",
   "execution_count": 5,
   "metadata": {
    "scrolled": false
   },
   "outputs": [
    {
     "data": {
      "text/plain": [
       "{'specimen_name': 'Vip-IRES-Cre;Ai32-417678',\n",
       " 'session_type': 'brain_observatory_1.1',\n",
       " 'full_genotype': 'Vip-IRES-Cre/wt;Ai32(RCL-ChR2(H134R)_EYFP)/wt',\n",
       " 'sex': 'M',\n",
       " 'age_in_days': 116.0,\n",
       " 'rig_equipment_name': 'NP.1',\n",
       " 'num_units': 555,\n",
       " 'num_channels': 2229,\n",
       " 'num_probes': 6,\n",
       " 'num_stimulus_presentations': 70931,\n",
       " 'session_start_time': datetime.datetime(2019, 1, 8, 13, 55, 1, tzinfo=tzoffset(None, -28800)),\n",
       " 'ecephys_session_id': 791319847,\n",
       " 'structure_acronyms': [nan,\n",
       "  'VISpm',\n",
       "  'CA1',\n",
       "  'DG',\n",
       "  'TH',\n",
       "  'LP',\n",
       "  'VISl',\n",
       "  'CA2',\n",
       "  'CA3',\n",
       "  'VISal',\n",
       "  'LGv',\n",
       "  'ZI',\n",
       "  'VISrl',\n",
       "  'POL',\n",
       "  'APN',\n",
       "  'VISam',\n",
       "  'VISp',\n",
       "  'SUB',\n",
       "  'ProS',\n",
       "  'LGd'],\n",
       " 'stimulus_names': ['spontaneous',\n",
       "  'gabors',\n",
       "  'flashes',\n",
       "  'drifting_gratings',\n",
       "  'natural_movie_three',\n",
       "  'natural_movie_one',\n",
       "  'static_gratings',\n",
       "  'natural_scenes',\n",
       "  'drifting_gratings_contrast']}"
      ]
     },
     "execution_count": 5,
     "metadata": {},
     "output_type": "execute_result"
    }
   ],
   "source": [
    "session.metadata"
   ]
  },
  {
   "cell_type": "markdown",
   "metadata": {},
   "source": [
    "# Other download methods.\n",
    "The download links may change. So generate them using the code."
   ]
  },
  {
   "cell_type": "code",
   "execution_count": 4,
   "metadata": {},
   "outputs": [
    {
     "name": "stdout",
     "output_type": "stream",
     "text": [
      "Download time: 720000\n"
     ]
    }
   ],
   "source": [
    "from allensdk.brain_observatory.ecephys.ecephys_project_api.utilities import build_and_execute\n",
    "from allensdk.brain_observatory.ecephys.ecephys_project_api.rma_engine import RmaEngine\n",
    "from allensdk.brain_observatory.ecephys.ecephys_project_cache import EcephysProjectCache\n",
    "\n",
    "rma_engine = RmaEngine(scheme=\"http\", host=\"api.brain-map.org\")"
   ]
  },
  {
   "cell_type": "code",
   "execution_count": 6,
   "metadata": {},
   "outputs": [
    {
     "name": "stdout",
     "output_type": "stream",
     "text": [
      "Download time: 720000\n",
      "['brain_observatory_1.1', 'functional_connectivity']\n"
     ]
    }
   ],
   "source": [
    "cache = EcephysProjectCache.from_warehouse(manifest=manifest_path)\n",
    "print(cache.get_all_session_types())"
   ]
  },
  {
   "cell_type": "code",
   "execution_count": 7,
   "metadata": {},
   "outputs": [],
   "source": [
    "sessions = cache.get_session_table()"
   ]
  },
  {
   "cell_type": "code",
   "execution_count": 8,
   "metadata": {},
   "outputs": [],
   "source": [
    "def retrieve_link(session_id):\n",
    "    \n",
    "    well_known_files = build_and_execute(\n",
    "        (\n",
    "        \"criteria=model::WellKnownFile\"\n",
    "        \",rma::criteria,well_known_file_type[name$eq'EcephysNwb']\"\n",
    "        \"[attachable_type$eq'EcephysSession']\"\n",
    "        r\"[attachable_id$eq{{session_id}}]\"\n",
    "        ),\n",
    "        engine=rma_engine.get_rma_tabular, \n",
    "        session_id=session_id\n",
    "    )\n",
    "    \n",
    "    return 'http://api.brain-map.org/' + well_known_files['download_link'].iloc[0]"
   ]
  },
  {
   "cell_type": "code",
   "execution_count": 9,
   "metadata": {},
   "outputs": [
    {
     "data": {
      "text/plain": [
       "'http://api.brain-map.org//api/v2/well_known_file_download/1026124743'"
      ]
     },
     "execution_count": 9,
     "metadata": {},
     "output_type": "execute_result"
    }
   ],
   "source": [
    "session_id = 798911424\n",
    "retrieve_link(session_id)"
   ]
  },
  {
   "cell_type": "code",
   "execution_count": 10,
   "metadata": {},
   "outputs": [
    {
     "name": "stdout",
     "output_type": "stream",
     "text": [
      "(715093703, 'http://api.brain-map.org//api/v2/well_known_file_download/1026124469')\n",
      "(719161530, 'http://api.brain-map.org//api/v2/well_known_file_download/1026124034')\n",
      "(721123822, 'http://api.brain-map.org//api/v2/well_known_file_download/1026123696')\n",
      "(732592105, 'http://api.brain-map.org//api/v2/well_known_file_download/1026123599')\n",
      "(737581020, 'http://api.brain-map.org//api/v2/well_known_file_download/1026123989')\n",
      "(739448407, 'http://api.brain-map.org//api/v2/well_known_file_download/1026123897')\n",
      "(742951821, 'http://api.brain-map.org//api/v2/well_known_file_download/1026123964')\n",
      "(743475441, 'http://api.brain-map.org//api/v2/well_known_file_download/1026124068')\n",
      "(744228101, 'http://api.brain-map.org//api/v2/well_known_file_download/1026124429')\n",
      "(746083955, 'http://api.brain-map.org//api/v2/well_known_file_download/1026124262')\n",
      "(750332458, 'http://api.brain-map.org//api/v2/well_known_file_download/1026124724')\n",
      "(750749662, 'http://api.brain-map.org//api/v2/well_known_file_download/1026124242')\n",
      "(751348571, 'http://api.brain-map.org//api/v2/well_known_file_download/1026124863')\n",
      "(754312389, 'http://api.brain-map.org//api/v2/well_known_file_download/1026123537')\n",
      "(754829445, 'http://api.brain-map.org//api/v2/well_known_file_download/1026124326')\n",
      "(755434585, 'http://api.brain-map.org//api/v2/well_known_file_download/1026124684')\n",
      "(756029989, 'http://api.brain-map.org//api/v2/well_known_file_download/1026124216')\n",
      "(757216464, 'http://api.brain-map.org//api/v2/well_known_file_download/1026124603')\n",
      "(757970808, 'http://api.brain-map.org//api/v2/well_known_file_download/1026123685')\n",
      "(758798717, 'http://api.brain-map.org//api/v2/well_known_file_download/1026123877')\n",
      "(759883607, 'http://api.brain-map.org//api/v2/well_known_file_download/1026123377')\n",
      "(760345702, 'http://api.brain-map.org//api/v2/well_known_file_download/1026123651')\n",
      "(760693773, 'http://api.brain-map.org//api/v2/well_known_file_download/1026124702')\n",
      "(761418226, 'http://api.brain-map.org//api/v2/well_known_file_download/1026124793')\n",
      "(762120172, 'http://api.brain-map.org//api/v2/well_known_file_download/1026124884')\n",
      "(762602078, 'http://api.brain-map.org//api/v2/well_known_file_download/1026124569')\n",
      "(763673393, 'http://api.brain-map.org//api/v2/well_known_file_download/1026124500')\n",
      "(766640955, 'http://api.brain-map.org//api/v2/well_known_file_download/1026124293')\n",
      "(767871931, 'http://api.brain-map.org//api/v2/well_known_file_download/1026124194')\n",
      "(768515987, 'http://api.brain-map.org//api/v2/well_known_file_download/1026124517')\n",
      "(771160300, 'http://api.brain-map.org//api/v2/well_known_file_download/1026124918')\n",
      "(771990200, 'http://api.brain-map.org//api/v2/well_known_file_download/1026124152')\n",
      "(773418906, 'http://api.brain-map.org//api/v2/well_known_file_download/1026124109')\n",
      "(774875821, 'http://api.brain-map.org//api/v2/well_known_file_download/1026124348')\n",
      "(778240327, 'http://api.brain-map.org//api/v2/well_known_file_download/1026124625')\n",
      "(778998620, 'http://api.brain-map.org//api/v2/well_known_file_download/1026124179')\n",
      "(779839471, 'http://api.brain-map.org//api/v2/well_known_file_download/1026124007')\n",
      "(781842082, 'http://api.brain-map.org//api/v2/well_known_file_download/1026124309')\n",
      "(786091066, 'http://api.brain-map.org//api/v2/well_known_file_download/1026123803')\n",
      "(787025148, 'http://api.brain-map.org//api/v2/well_known_file_download/1026124405')\n",
      "(789848216, 'http://api.brain-map.org//api/v2/well_known_file_download/1026123847')\n",
      "(791319847, 'http://api.brain-map.org//api/v2/well_known_file_download/1026124645')\n",
      "(793224716, 'http://api.brain-map.org//api/v2/well_known_file_download/1026124545')\n",
      "(794812542, 'http://api.brain-map.org//api/v2/well_known_file_download/1026124759')\n",
      "(797828357, 'http://api.brain-map.org//api/v2/well_known_file_download/1026124804')\n",
      "(798911424, 'http://api.brain-map.org//api/v2/well_known_file_download/1026124743')\n",
      "(799864342, 'http://api.brain-map.org//api/v2/well_known_file_download/1026125021')\n",
      "(816200189, 'http://api.brain-map.org//api/v2/well_known_file_download/1026124840')\n",
      "(819186360, 'http://api.brain-map.org//api/v2/well_known_file_download/1026124085')\n",
      "(819701982, 'http://api.brain-map.org//api/v2/well_known_file_download/1026124368')\n",
      "(821695405, 'http://api.brain-map.org//api/v2/well_known_file_download/1026123824')\n",
      "(829720705, 'http://api.brain-map.org//api/v2/well_known_file_download/1026123625')\n",
      "(831882777, 'http://api.brain-map.org//api/v2/well_known_file_download/1026123787')\n",
      "(835479236, 'http://api.brain-map.org//api/v2/well_known_file_download/1026123519')\n",
      "(839068429, 'http://api.brain-map.org//api/v2/well_known_file_download/1026123725')\n",
      "(839557629, 'http://api.brain-map.org//api/v2/well_known_file_download/1026122596')\n",
      "(840012044, 'http://api.brain-map.org//api/v2/well_known_file_download/1026124422')\n",
      "(847657808, 'http://api.brain-map.org//api/v2/well_known_file_download/1026123943')\n"
     ]
    }
   ],
   "source": [
    "download_links = [(session_id, retrieve_link(session_id)) for session_id in sessions.index.values]\n",
    "print('length', len(download_links))\n",
    "_ = [print(item) for item in download_links]"
   ]
  },
  {
   "cell_type": "code",
   "execution_count": null,
   "metadata": {},
   "outputs": [],
   "source": []
  },
  {
   "cell_type": "code",
   "execution_count": null,
   "metadata": {},
   "outputs": [],
   "source": []
  }
 ],
 "metadata": {
  "kernelspec": {
   "display_name": "Python 3 (ipykernel)",
   "language": "python",
   "name": "python3"
  },
  "language_info": {
   "codemirror_mode": {
    "name": "ipython",
    "version": 3
   },
   "file_extension": ".py",
   "mimetype": "text/x-python",
   "name": "python",
   "nbconvert_exporter": "python",
   "pygments_lexer": "ipython3",
   "version": "3.7.10"
  }
 },
 "nbformat": 4,
 "nbformat_minor": 2
}
